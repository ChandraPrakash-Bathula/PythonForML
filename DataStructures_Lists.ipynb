{
 "cells": [
  {
   "cell_type": "markdown",
   "id": "155a96b9-b41e-4d3a-a722-ccd663eada24",
   "metadata": {},
   "source": [
    "<h2>Python Lists</h2>"
   ]
  },
  {
   "cell_type": "code",
   "execution_count": 2,
   "id": "03595371-4f32-486e-b3b0-97ac52568c33",
   "metadata": {},
   "outputs": [
    {
     "name": "stdout",
     "output_type": "stream",
     "text": [
      "[] [1, 2, 3, 4, 5, 6, 7] ['Strings', 'can', 'also', 'be', 'added', 'in the', 'lists.'] [1, 2, 3, 4, 'string', 10.89] [[1, 2, 3], 'string', {'a': 'King'}, 4]\n"
     ]
    }
   ],
   "source": [
    "list = [] #empty_list\n",
    "list1 = [1,2,3,4,5,6,7] #lists with integers\n",
    "list2 = ['Strings','can','also','be','added','in the','lists.']\n",
    "list3 = [1,2,3,4,'string',10.89] #a mixed list\n",
    "list4=[[1,2,3],'string',{'a':'King'},4]\n",
    "print(list,list1,list2,list3,list4)"
   ]
  },
  {
   "cell_type": "code",
   "execution_count": 3,
   "id": "8a89269f-621d-4fdd-ab3e-f904f31847ff",
   "metadata": {},
   "outputs": [
    {
     "data": {
      "text/plain": [
       "4"
      ]
     },
     "execution_count": 3,
     "metadata": {},
     "output_type": "execute_result"
    }
   ],
   "source": [
    "#list length using len() function\n",
    "\n",
    "len(list4)"
   ]
  },
  {
   "cell_type": "code",
   "execution_count": 20,
   "id": "af784df6-5764-4441-b28e-578bc26f935f",
   "metadata": {},
   "outputs": [
    {
     "name": "stdout",
     "output_type": "stream",
     "text": [
      "[1, 32, 54, 76, 98, 'anything']\n",
      "[1, 32, 54, 76, 98, 'anything', [24, 68, 684]]\n"
     ]
    }
   ],
   "source": [
    "#append() is adding a unit in the ending of a list; append() can append a list in a list\n",
    "lst=[1,32,54,76,98]\n",
    "lst2=[24,68,684]\n",
    "app = lst\n",
    "lst.append('anything')\n",
    "print(app)\n",
    "lst.append(lst2)\n",
    "print(lst)"
   ]
  },
  {
   "cell_type": "code",
   "execution_count": 16,
   "id": "2870ad6e-cedb-4a4a-a045-f82b7dd85261",
   "metadata": {},
   "outputs": [
    {
     "name": "stdout",
     "output_type": "stream",
     "text": [
      "[12, 13, 4, 14, 15, 16, 17, 18]\n"
     ]
    }
   ],
   "source": [
    "#insert is a function by which we can add an element at particular location\n",
    "lst = [12,13,14,15,16,17,18]\n",
    "lst.insert(2,4) #at the index 2, 4 is added insert(x,y); y is added at the location x\n",
    "print(lst)"
   ]
  },
  {
   "cell_type": "code",
   "execution_count": 23,
   "id": "28bbfbed-b01a-4974-975f-964de7a2e36f",
   "metadata": {},
   "outputs": [
    {
     "name": "stdout",
     "output_type": "stream",
     "text": [
      "['one', 'three', 'four', 'five']\n"
     ]
    }
   ],
   "source": [
    "#remove() function removes an element from the list\n",
    "lst = ['one','two','three','four','five']\n",
    "lst.remove('two')\n",
    "print(lst)"
   ]
  },
  {
   "cell_type": "code",
   "execution_count": 24,
   "id": "856dfb8f-b282-4083-9348-41492c038517",
   "metadata": {},
   "outputs": [
    {
     "name": "stdout",
     "output_type": "stream",
     "text": [
      "[1, 32, 54, 76, 98, 24, 68, 684]\n"
     ]
    }
   ],
   "source": [
    "#extend() adds the list items of one list into another list\n",
    "lst=[1,32,54,76,98]\n",
    "lst2=[24,68,684]\n",
    "lst.extend(lst2)\n",
    "print(lst)"
   ]
  },
  {
   "cell_type": "code",
   "execution_count": 25,
   "id": "4884c2ef-4c1d-428a-93c4-96741498d3e1",
   "metadata": {},
   "outputs": [
    {
     "data": {
      "text/plain": [
       "[32, 54, 76, 98]"
      ]
     },
     "execution_count": 25,
     "metadata": {},
     "output_type": "execute_result"
    }
   ],
   "source": [
    "#delete removes an element based on the index\n",
    "lst=[1,32,54,76,98]\n",
    "del lst[0]\n",
    "lst"
   ]
  },
  {
   "cell_type": "code",
   "execution_count": 28,
   "id": "2f18d485-7e92-43d2-a7bd-e02fc75dfcea",
   "metadata": {},
   "outputs": [
    {
     "name": "stdout",
     "output_type": "stream",
     "text": [
      "21\n"
     ]
    }
   ],
   "source": [
    "#pop() is a function that elimantes a unit from the list and catches that removed element which is index based\n",
    "lst = [21,43,57,98,70]\n",
    "a = lst.pop(0)\n",
    "print(a)"
   ]
  },
  {
   "cell_type": "code",
   "execution_count": 30,
   "id": "e98a3d2f-ae9b-447c-94eb-9f42cc5a869d",
   "metadata": {},
   "outputs": [
    {
     "name": "stdout",
     "output_type": "stream",
     "text": [
      "No such elements were present in the List.\n"
     ]
    }
   ],
   "source": [
    "#list related keywords 'in' and 'not in'\n",
    "\n",
    "lst = [1,4,7,9]\n",
    "if 'two' in lst:\n",
    "    print('Bro.')\n",
    "elif 'six' not in lst:\n",
    "    print('No such elements were present in the List.')\n",
    "else:\n",
    "    print('List is a list.')"
   ]
  },
  {
   "cell_type": "code",
   "execution_count": 32,
   "id": "fe9d42a4-ee36-47fb-a0e4-4fe80971dae0",
   "metadata": {},
   "outputs": [
    {
     "name": "stdout",
     "output_type": "stream",
     "text": [
      "[5, 4, 3, 2, 1]\n"
     ]
    }
   ],
   "source": [
    "#list reverse operation using reverse() function\n",
    "lst = [1,2,3,4,5]\n",
    "lst.reverse()\n",
    "print(lst)"
   ]
  },
  {
   "cell_type": "code",
   "execution_count": 37,
   "id": "3d0e271c-da92-4d17-84ca-b5073cc8f591",
   "metadata": {},
   "outputs": [
    {
     "name": "stdout",
     "output_type": "stream",
     "text": [
      "[1, 2, 3, 4, 5, 6]\n",
      "[6, 5, 4, 3, 2, 1]\n"
     ]
    }
   ],
   "source": [
    "#sorting lists in ascending and descending orders.\n",
    "\n",
    "lst = [1,4,6,2,3,5]\n",
    "lst1 = sorted(lst)\n",
    "print(lst1)\n",
    "lst2 = [1,4,6,2,3,5]\n",
    "lst3 = sorted(lst2,reverse=True)\n",
    "print(lst3)"
   ]
  },
  {
   "cell_type": "code",
   "execution_count": 38,
   "id": "2b56f9b2-b13b-4e4f-a794-49847c07d53e",
   "metadata": {},
   "outputs": [
    {
     "name": "stdout",
     "output_type": "stream",
     "text": [
      "[1, 3, 24, 54, 62, 71, 72, 91, 89, 81, 90, 12]\n"
     ]
    }
   ],
   "source": [
    "#lists having multiple references\n",
    "\n",
    "lst = [1,3,24,54,62,71,72,91,89,81,90]\n",
    "lst2 = lst\n",
    "lst2.append(12)\n",
    "print(lst)"
   ]
  },
  {
   "cell_type": "code",
   "execution_count": 48,
   "id": "f538c839-4ee2-4426-8593-2eb4967f9d04",
   "metadata": {},
   "outputs": [
    {
     "name": "stdout",
     "output_type": "stream",
     "text": [
      "['one', 'two', 'three', 'four', 'five', 'six']\n"
     ]
    }
   ],
   "source": [
    "#lists splits strings\n",
    "\n",
    "strings = 'one,two,three,four,five,six'\n",
    "result = strings.split(',') #based on the , or space we give in the () we split the string\n",
    "print(result)"
   ]
  },
  {
   "cell_type": "code",
   "execution_count": 49,
   "id": "bec0216c-7e78-4200-897b-bd7d03979182",
   "metadata": {},
   "outputs": [
    {
     "name": "stdout",
     "output_type": "stream",
     "text": [
      "Splitted version  ['I', 'am', 'Chandra', 'Prakash', 'Bathula']\n"
     ]
    }
   ],
   "source": [
    "s = 'I am Chandra Prakash Bathula';\n",
    "splitting = s.split() #by default it takes white-character, tab or space\n",
    "print('Splitted version ',splitting)"
   ]
  },
  {
   "cell_type": "code",
   "execution_count": 50,
   "id": "ce663cc0-bb36-4569-affa-c8a8fbd33f06",
   "metadata": {},
   "outputs": [
    {
     "data": {
      "text/plain": [
       "1"
      ]
     },
     "execution_count": 50,
     "metadata": {},
     "output_type": "execute_result"
    }
   ],
   "source": [
    "#List indexing\n",
    "lst = [1,2,3,4,5,6]\n",
    "lst[0]"
   ]
  },
  {
   "cell_type": "code",
   "execution_count": 54,
   "id": "35d07b5b-c9f7-4170-981a-29275a0ad6a9",
   "metadata": {},
   "outputs": [
    {
     "name": "stdout",
     "output_type": "stream",
     "text": [
      "[1, 2, 3, 4, 5, 6, 7, 8, 9, 10]\n",
      "[5, 6, 7, 8, 9]\n"
     ]
    }
   ],
   "source": [
    "#List slicing through indexing\n",
    "lst = [1,2,3,4,5,6,7,8,9,10]\n",
    "lst[0:]\n",
    "print(lst)\n",
    "lst2 = lst[4:9]\n",
    "print(lst2)"
   ]
  },
  {
   "cell_type": "code",
   "execution_count": 56,
   "id": "7bc190be-3d3a-46af-b133-4cc6b512cff2",
   "metadata": {},
   "outputs": [
    {
     "name": "stdout",
     "output_type": "stream",
     "text": [
      "[1, 3, 5, 7, 9]\n"
     ]
    }
   ],
   "source": [
    "#List slicing can be through step size\n",
    "lst = [1,2,3,4,5,6,7,8,9,10]\n",
    "print(lst[::2]) #list[starting:ending:stepsize]"
   ]
  },
  {
   "cell_type": "code",
   "execution_count": 57,
   "id": "c36e2073-d4c8-45e7-9277-e03665d8cba0",
   "metadata": {},
   "outputs": [
    {
     "name": "stdout",
     "output_type": "stream",
     "text": [
      "[1, 2, 3, 4, 5, 6]\n"
     ]
    }
   ],
   "source": [
    "#List extension using '+' symbol.\n",
    "\n",
    "lst = [1,2,3]; lst2 = [4,5,6]\n",
    "lst1 = lst + lst2\n",
    "print(lst1)"
   ]
  },
  {
   "cell_type": "code",
   "execution_count": 61,
   "id": "e0947ae7-96c5-4456-b275-ade6de343855",
   "metadata": {},
   "outputs": [
    {
     "name": "stdout",
     "output_type": "stream",
     "text": [
      "6\n"
     ]
    }
   ],
   "source": [
    "#list element frequency estimation using count function\n",
    "lst = [1,2,2,3,4,4,5,5,5,5,5,5,1]\n",
    "print(lst.count(5))"
   ]
  },
  {
   "cell_type": "code",
   "execution_count": 63,
   "id": "e19c1c69-c7e7-4c6f-824c-c621a68435bf",
   "metadata": {},
   "outputs": [
    {
     "name": "stdout",
     "output_type": "stream",
     "text": [
      "Counter({7: 3, 2: 2, 5: 2, 1: 1, 3: 1, 4: 1, 6: 1})\n"
     ]
    }
   ],
   "source": [
    "from collections import Counter\n",
    "\n",
    "# Example list with some repeated elements\n",
    "numbers = [1, 2, 2, 3, 4, 5, 5, 6, 7, 7, 7]\n",
    "\n",
    "# Use Counter to count the frequency of each element in the list\n",
    "frequency = Counter(numbers)\n",
    "\n",
    "# Print the frequency of each element\n",
    "print(frequency)\n"
   ]
  },
  {
   "cell_type": "code",
   "execution_count": 64,
   "id": "6a32151f-a476-4941-9b93-5f380fe46c79",
   "metadata": {},
   "outputs": [
    {
     "name": "stdout",
     "output_type": "stream",
     "text": [
      "Counter({7: 7, 5: 6, 3: 5, 9: 5, 2: 4, 6: 3, 1: 2, 4: 1, 8: 1, 0: 1})\n"
     ]
    }
   ],
   "source": [
    "numbers = [1,2,2,3,3,3,3,5,5,5,5,6,6,7,7,7,7,8,9,9,9,9,9,0]\n",
    "dictionary = {}\n",
    "for number in numbers:\n",
    "    if number in numbers:\n",
    "        frequency[number]+=1\n",
    "    else:\n",
    "        frequency[number] = 1\n",
    "print(frequency)"
   ]
  },
  {
   "cell_type": "code",
   "execution_count": 65,
   "id": "b978376c-27d5-4d56-8563-7b327150ba48",
   "metadata": {},
   "outputs": [
    {
     "name": "stdout",
     "output_type": "stream",
     "text": [
      "{1: 1, 2: 2, 3: 1, 4: 1, 5: 2, 6: 1, 7: 3}\n"
     ]
    }
   ],
   "source": [
    "# Example list with some repeated elements\n",
    "numbers = [1, 2, 2, 3, 4, 5, 5, 6, 7, 7, 7]\n",
    "\n",
    "# Create an empty dictionary to store the frequency of each element\n",
    "frequency = {}\n",
    "\n",
    "# Iterate through the list\n",
    "for number in numbers:\n",
    "    if number not in frequency:\n",
    "        # Use count() to find the frequency of each unique element\n",
    "        frequency[number] = numbers.count(number)\n",
    "\n",
    "# Print the frequency of each element\n",
    "print(frequency)\n"
   ]
  },
  {
   "cell_type": "code",
   "execution_count": 71,
   "id": "9598e3aa-9afb-4416-ab70-c926983e6ec9",
   "metadata": {},
   "outputs": [
    {
     "name": "stdout",
     "output_type": "stream",
     "text": [
      "[0, 1, 4, 9, 16, 25, 36, 49, 64, 81]\n"
     ]
    }
   ],
   "source": [
    "#list comprehension\n",
    "squares = []\n",
    "for i in range(10):\n",
    "    squares.append(i**2)\n",
    "print(squares)"
   ]
  },
  {
   "cell_type": "code",
   "execution_count": 73,
   "id": "7319d33a-282b-42d1-89c6-eecebb800641",
   "metadata": {},
   "outputs": [
    {
     "name": "stdout",
     "output_type": "stream",
     "text": [
      "[0, 1, 8, 27, 64, 125, 216, 343, 512]\n"
     ]
    }
   ],
   "source": [
    "Qubes = [i**3 for i in range(9)]\n",
    "print(Qubes)"
   ]
  },
  {
   "cell_type": "code",
   "execution_count": 76,
   "id": "bb69b760-59a0-40ed-8594-7d9ecedc5937",
   "metadata": {},
   "outputs": [
    {
     "name": "stdout",
     "output_type": "stream",
     "text": [
      "[-20, 40, -2, 0, 20, -40, 80, 100]\n"
     ]
    }
   ],
   "source": [
    "lst = [-10,20,-1,0,10,-20,40,50]\n",
    "lst2 = [i*2 for i in lst]\n",
    "print(lst2)"
   ]
  },
  {
   "cell_type": "code",
   "execution_count": 80,
   "id": "1e41e8f1-2ea5-427d-b043-e93731e7ced3",
   "metadata": {},
   "outputs": [
    {
     "name": "stdout",
     "output_type": "stream",
     "text": [
      "[0, 1, 2, 3]\n"
     ]
    }
   ],
   "source": [
    "#excluding negative numbers from the list\n",
    "\n",
    "list = [-1,-2,-3,0,1,2,3]\n",
    "lst_new = [i for i in list if i >=0]\n",
    "print(lst_new)"
   ]
  },
  {
   "cell_type": "code",
   "execution_count": 81,
   "id": "aa096473-3904-4447-875b-8f930e59dff5",
   "metadata": {},
   "outputs": [
    {
     "name": "stdout",
     "output_type": "stream",
     "text": [
      "[(0, 0), (1, 1), (2, 4), (3, 9), (4, 16), (5, 25), (6, 36), (7, 49), (8, 64), (9, 81)]\n"
     ]
    }
   ],
   "source": [
    "#creating a list of tuples like (numbers and their squares)\n",
    "\n",
    "squaring = [(i, i**2) for i in range(10)]\n",
    "print(squaring)"
   ]
  },
  {
   "cell_type": "code",
   "execution_count": 82,
   "id": "b04633dd-c27e-44db-992c-08c21a5c6af8",
   "metadata": {},
   "outputs": [
    {
     "name": "stdout",
     "output_type": "stream",
     "text": [
      "[[1, 5, 9], [2, 6, 10], [3, 7, 11], [4, 8, 12]]\n"
     ]
    }
   ],
   "source": [
    "#Matrix transpose using list\n",
    "\n",
    "matrix = [[1,2,3,4],[5,6,7,8],[9,10,11,12]]\n",
    "transposed = []\n",
    "for i in range(4):\n",
    "    lst = []\n",
    "    for row in matrix:\n",
    "        lst.append(row[i])\n",
    "    transposed.append(lst)\n",
    "print(transposed)"
   ]
  },
  {
   "cell_type": "code",
   "execution_count": 86,
   "id": "b0fff70a-be17-49d0-97fe-d5be7dc1bc01",
   "metadata": {},
   "outputs": [
    {
     "name": "stdout",
     "output_type": "stream",
     "text": [
      "[[1, 5, 9], [2, 6, 10], [3, 7, 11], [4, 8, 12]]\n"
     ]
    }
   ],
   "source": [
    "matrix = [[1,2,3,4],[5,6,7,8],[9,10,11,12]]\n",
    "transpose = [[row[i] for row in matrix ]for i in range(4)]\n",
    "print(transpose)"
   ]
  },
  {
   "cell_type": "code",
   "execution_count": null,
   "id": "b1df6462-0c74-4904-968c-4640643b4341",
   "metadata": {},
   "outputs": [],
   "source": []
  }
 ],
 "metadata": {
  "kernelspec": {
   "display_name": "Python 3 (ipykernel)",
   "language": "python",
   "name": "python3"
  },
  "language_info": {
   "codemirror_mode": {
    "name": "ipython",
    "version": 3
   },
   "file_extension": ".py",
   "mimetype": "text/x-python",
   "name": "python",
   "nbconvert_exporter": "python",
   "pygments_lexer": "ipython3",
   "version": "3.11.4"
  }
 },
 "nbformat": 4,
 "nbformat_minor": 5
}
