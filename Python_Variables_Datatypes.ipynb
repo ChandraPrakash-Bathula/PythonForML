{
 "cells": [
  {
   "cell_type": "markdown",
   "id": "fa06eef8-0ca7-414b-9fc0-80a8454af5b2",
   "metadata": {},
   "source": [
    "<h2>Python Variables are locations in memory in order to store data.</h2>"
   ]
  },
  {
   "cell_type": "code",
   "execution_count": 1,
   "id": "44018433-d225-4bee-bd8c-d0e9c6987194",
   "metadata": {},
   "outputs": [
    {
     "name": "stdout",
     "output_type": "stream",
     "text": [
      "3 5.5 ML\n"
     ]
    }
   ],
   "source": [
    "#Python Variables\n",
    "a = 3;\n",
    "b=5.5\n",
    "c=\"ML\"\n",
    "print(a,b,c)"
   ]
  },
  {
   "cell_type": "code",
   "execution_count": 2,
   "id": "762a3941-8ce2-4b4d-9e8e-c931d30d5710",
   "metadata": {},
   "outputs": [
    {
     "name": "stdout",
     "output_type": "stream",
     "text": [
      "1 2 3\n",
      "LLMs LLMs LLMs\n"
     ]
    }
   ],
   "source": [
    "#Python Multiple Assignments\n",
    "a,b,c = 1,2,3;\n",
    "print(a,b,c)\n",
    "#Assigning same value to different variables\n",
    "a = b = c = \"LLMs\"\n",
    "print(a,b,c)"
   ]
  },
  {
   "cell_type": "code",
   "execution_count": 3,
   "id": "d569aeb4-f23e-4e5c-98dc-8a39bf6224c2",
   "metadata": {},
   "outputs": [
    {
     "name": "stdout",
     "output_type": "stream",
     "text": [
      "4363199744\n"
     ]
    }
   ],
   "source": [
    "x = 3\n",
    "print(id(x))"
   ]
  },
  {
   "cell_type": "code",
   "execution_count": 4,
   "id": "d9797814-6379-49f4-b47d-c36b85339cff",
   "metadata": {},
   "outputs": [
    {
     "name": "stdout",
     "output_type": "stream",
     "text": [
      "4363199744\n"
     ]
    }
   ],
   "source": [
    "y = 3\n",
    "print(id(y))"
   ]
  },
  {
   "cell_type": "code",
   "execution_count": 5,
   "id": "76eb2c7e-397e-4b08-98dd-bf31ee2febbf",
   "metadata": {},
   "outputs": [
    {
     "name": "stdout",
     "output_type": "stream",
     "text": [
      "4363199712\n"
     ]
    }
   ],
   "source": [
    "y= 2\n",
    "print(id(y))"
   ]
  },
  {
   "cell_type": "markdown",
   "id": "f2e49879-ac5c-4507-bfee-1ee9e35813dc",
   "metadata": {},
   "source": [
    "<h3>Python Datatypes:</h3>\n",
    "<h5>Numbers : </h5>\n",
    "<p>Integers, Floating point Numbers and Complex Numbers falls under Python Numbers Category. They are divided as int float and complex class in Python.</p>"
   ]
  },
  {
   "cell_type": "code",
   "execution_count": 6,
   "id": "69ceaa04-ee3d-464d-8d97-696bb06a8dbb",
   "metadata": {},
   "outputs": [
    {
     "name": "stdout",
     "output_type": "stream",
     "text": [
      "<class 'int'>\n"
     ]
    }
   ],
   "source": [
    "a = 5;\n",
    "print(type(a))"
   ]
  },
  {
   "cell_type": "code",
   "execution_count": 7,
   "id": "1b6e935d-deac-480b-b54c-d475d0b637b4",
   "metadata": {},
   "outputs": [
    {
     "name": "stdout",
     "output_type": "stream",
     "text": [
      "<class 'float'>\n"
     ]
    }
   ],
   "source": [
    "n=3.4\n",
    "print(type(n))"
   ]
  },
  {
   "cell_type": "code",
   "execution_count": 8,
   "id": "f1eec5ad-00db-4926-a982-24389f4bd2f7",
   "metadata": {},
   "outputs": [
    {
     "name": "stdout",
     "output_type": "stream",
     "text": [
      "<class 'complex'> (1+2j)  is complex number ?\n",
      "True\n"
     ]
    }
   ],
   "source": [
    "a=1+2j\n",
    "print(type(a),a,\" is complex number ?\")\n",
    "print(isinstance(a, complex))"
   ]
  },
  {
   "cell_type": "markdown",
   "id": "c84e9ffb-ba59-4323-a36d-c21188be8d7b",
   "metadata": {},
   "source": [
    "<h3>Booleans</h3>\n",
    "<p>Boolean values are True and False</p>"
   ]
  },
  {
   "cell_type": "code",
   "execution_count": 9,
   "id": "36d0dd8c-340e-486b-8d17-0db1aa2c3db9",
   "metadata": {},
   "outputs": [
    {
     "name": "stdout",
     "output_type": "stream",
     "text": [
      "<class 'bool'>\n"
     ]
    }
   ],
   "source": [
    "a = True;\n",
    "print(type(a))"
   ]
  },
  {
   "cell_type": "markdown",
   "id": "456af0c9-0a74-4982-877b-7d82c3d19a66",
   "metadata": {},
   "source": [
    "<h3>Python Strings</h3>\n",
    "<p>Strings can include any number boolean or anyother data type and are enclosed with single or double quotes '' (or) \"\" . And the first character index starts with 0.</p>"
   ]
  },
  {
   "cell_type": "code",
   "execution_count": 10,
   "id": "0a2c9c4e-e069-4f23-ab7b-b0c24f710dac",
   "metadata": {},
   "outputs": [
    {
     "data": {
      "text/plain": [
       "str"
      ]
     },
     "execution_count": 10,
     "metadata": {},
     "output_type": "execute_result"
    }
   ],
   "source": [
    "a = 'Python String can have anything in them.'\n",
    "type(a)"
   ]
  },
  {
   "cell_type": "code",
   "execution_count": 11,
   "id": "51207ebe-a608-460d-8c77-0785258de144",
   "metadata": {},
   "outputs": [
    {
     "data": {
      "text/plain": [
       "'P'"
      ]
     },
     "execution_count": 11,
     "metadata": {},
     "output_type": "execute_result"
    }
   ],
   "source": [
    "a[0]"
   ]
  },
  {
   "cell_type": "code",
   "execution_count": 12,
   "id": "5702728e-7222-475c-8534-f2568eb32346",
   "metadata": {},
   "outputs": [
    {
     "data": {
      "text/plain": [
       "'.'"
      ]
     },
     "execution_count": 12,
     "metadata": {},
     "output_type": "execute_result"
    }
   ],
   "source": [
    "a[-1]"
   ]
  },
  {
   "cell_type": "code",
   "execution_count": 13,
   "id": "9b39a3d2-7206-4ad6-85f5-1164dde601d0",
   "metadata": {},
   "outputs": [
    {
     "data": {
      "text/plain": [
       "'ython String can have anything in them.'"
      ]
     },
     "execution_count": 13,
     "metadata": {},
     "output_type": "execute_result"
    }
   ],
   "source": [
    "a[1:]"
   ]
  },
  {
   "cell_type": "markdown",
   "id": "dace085d-7966-4bf8-bb27-208c20b3f045",
   "metadata": {},
   "source": [
    "<h3>Python Lists</h3>"
   ]
  },
  {
   "cell_type": "code",
   "execution_count": 14,
   "id": "5a4773b2-ada3-4082-9a27-1a7955248141",
   "metadata": {},
   "outputs": [
    {
     "name": "stdout",
     "output_type": "stream",
     "text": [
      "[1, 'Python String can have anything in them.', 'Bro', 8.9]\n",
      "[2, 'Python String can have anything in them.', 'Bro', 8.9]\n"
     ]
    }
   ],
   "source": [
    "list = [1,a,'Bro', 8.9]\n",
    "print(list)\n",
    "list[0]= 2\n",
    "print(list)"
   ]
  },
  {
   "cell_type": "markdown",
   "id": "7b067581-f53e-4a4a-9712-d21f7b73c98a",
   "metadata": {},
   "source": [
    "<h3>Python Tuples</h3>"
   ]
  },
  {
   "cell_type": "code",
   "execution_count": 15,
   "id": "fa551063-4304-417d-b1b6-ce309122738d",
   "metadata": {},
   "outputs": [
    {
     "name": "stdout",
     "output_type": "stream",
     "text": [
      "2\n",
      "Tuples are immuntable.\n"
     ]
    }
   ],
   "source": [
    "tuples = (a,2,4)\n",
    "print(tuples[1])\n",
    "print('Tuples are immuntable.')"
   ]
  },
  {
   "cell_type": "markdown",
   "id": "d904d74c-09dd-4607-a7b9-00b6bdf23a56",
   "metadata": {},
   "source": [
    "<h3>Python Sets</h3>"
   ]
  },
  {
   "cell_type": "code",
   "execution_count": 16,
   "id": "94420a7f-927c-4cb9-bf49-129d4f0aa592",
   "metadata": {},
   "outputs": [
    {
     "name": "stdout",
     "output_type": "stream",
     "text": [
      "{50, 20, 40, 10, 30}\n",
      "5\n",
      "Sets are unordered and cannot be indexed.\n"
     ]
    }
   ],
   "source": [
    "set = {10,20,30,30,30,40,50}\n",
    "print(set)\n",
    "print(len(set))\n",
    "print('Sets are unordered and cannot be indexed.')"
   ]
  },
  {
   "cell_type": "markdown",
   "id": "5791beb0-1745-47a7-b706-3eb9e8418ce2",
   "metadata": {},
   "source": [
    "<h3>Python Dictionaries<h3>"
   ]
  },
  {
   "cell_type": "code",
   "execution_count": 17,
   "id": "1ae0e1b2-1e78-43b1-b260-9765b0710bb7",
   "metadata": {},
   "outputs": [
    {
     "name": "stdout",
     "output_type": "stream",
     "text": [
      "apple\n"
     ]
    }
   ],
   "source": [
    "dictionary = {a:'apple', b:'batman'}\n",
    "print(dictionary[a])"
   ]
  },
  {
   "cell_type": "markdown",
   "id": "a8956876-2301-4397-97fa-89797ac2ad53",
   "metadata": {},
   "source": [
    "<h3>Conversion between Datatypes </h3>"
   ]
  },
  {
   "cell_type": "code",
   "execution_count": 18,
   "id": "03e437b0-c7f1-42fa-9b76-a456faa2b416",
   "metadata": {},
   "outputs": [
    {
     "data": {
      "text/plain": [
       "2.0"
      ]
     },
     "execution_count": 18,
     "metadata": {},
     "output_type": "execute_result"
    }
   ],
   "source": [
    "float(2)"
   ]
  },
  {
   "cell_type": "code",
   "execution_count": 19,
   "id": "18d11e04-dd61-4085-b1e0-e4e4a4659a56",
   "metadata": {},
   "outputs": [
    {
     "data": {
      "text/plain": [
       "22"
      ]
     },
     "execution_count": 19,
     "metadata": {},
     "output_type": "execute_result"
    }
   ],
   "source": [
    "int(22.0)"
   ]
  },
  {
   "cell_type": "code",
   "execution_count": 20,
   "id": "84785995-a93a-4bbc-a1a5-a0c124384512",
   "metadata": {},
   "outputs": [
    {
     "data": {
      "text/plain": [
       "'100'"
      ]
     },
     "execution_count": 20,
     "metadata": {},
     "output_type": "execute_result"
    }
   ],
   "source": [
    "str(100)"
   ]
  },
  {
   "cell_type": "code",
   "execution_count": 21,
   "id": "c6de2c1e-efec-4b3c-9d7a-664f30c80854",
   "metadata": {},
   "outputs": [
    {
     "name": "stdout",
     "output_type": "stream",
     "text": [
      "Congratulations Navya ! You have done 1000 times of work.\n"
     ]
    }
   ],
   "source": [
    "user = 'Navya'\n",
    "count = 1000\n",
    "print('Congratulations ' + user + \" ! You have done \" +str(count) + ' times of work.' )"
   ]
  },
  {
   "cell_type": "code",
   "execution_count": 22,
   "id": "40dbadcb-1e52-47d9-be95-79da5375cfe3",
   "metadata": {},
   "outputs": [
    {
     "ename": "TypeError",
     "evalue": "'set' object is not callable",
     "output_type": "error",
     "traceback": [
      "\u001b[0;31m---------------------------------------------------------------------------\u001b[0m",
      "\u001b[0;31mTypeError\u001b[0m                                 Traceback (most recent call last)",
      "Cell \u001b[0;32mIn[22], line 2\u001b[0m\n\u001b[1;32m      1\u001b[0m a \u001b[38;5;241m=\u001b[39m [\u001b[38;5;241m1\u001b[39m, \u001b[38;5;241m2\u001b[39m, \u001b[38;5;241m2\u001b[39m, \u001b[38;5;241m3\u001b[39m, \u001b[38;5;241m3\u001b[39m, \u001b[38;5;241m4\u001b[39m]   \u001b[38;5;66;03m# Original list with duplicate elements\u001b[39;00m\n\u001b[0;32m----> 2\u001b[0m sett \u001b[38;5;241m=\u001b[39m \u001b[38;5;28;43mset\u001b[39;49m\u001b[43m(\u001b[49m\u001b[43ma\u001b[49m\u001b[43m)\u001b[49m\n\u001b[1;32m      3\u001b[0m \u001b[38;5;28mprint\u001b[39m(sett)\n",
      "\u001b[0;31mTypeError\u001b[0m: 'set' object is not callable"
     ]
    }
   ],
   "source": [
    "a = [1, 2, 2, 3, 3, 4]   # Original list with duplicate elements\n",
    "sett = set(a)\n",
    "print(sett)"
   ]
  },
  {
   "cell_type": "code",
   "execution_count": 23,
   "id": "a180d428-2ce5-447a-a1e8-49e2d2fa504b",
   "metadata": {},
   "outputs": [
    {
     "ename": "TypeError",
     "evalue": "'list' object is not callable",
     "output_type": "error",
     "traceback": [
      "\u001b[0;31m---------------------------------------------------------------------------\u001b[0m",
      "\u001b[0;31mTypeError\u001b[0m                                 Traceback (most recent call last)",
      "Cell \u001b[0;32mIn[23], line 2\u001b[0m\n\u001b[1;32m      1\u001b[0m a \u001b[38;5;241m=\u001b[39m \u001b[38;5;124m'\u001b[39m\u001b[38;5;124mAPPLE\u001b[39m\u001b[38;5;124m'\u001b[39m\n\u001b[0;32m----> 2\u001b[0m \u001b[38;5;28;43mlist\u001b[39;49m\u001b[43m(\u001b[49m\u001b[43ma\u001b[49m\u001b[43m)\u001b[49m\n",
      "\u001b[0;31mTypeError\u001b[0m: 'list' object is not callable"
     ]
    }
   ],
   "source": [
    "a = 'APPLE'\n",
    "list(a)"
   ]
  },
  {
   "cell_type": "code",
   "execution_count": null,
   "id": "456b1eb7-0bcc-46fa-9cff-1a836dcc3804",
   "metadata": {},
   "outputs": [],
   "source": []
  }
 ],
 "metadata": {
  "kernelspec": {
   "display_name": "Python 3 (ipykernel)",
   "language": "python",
   "name": "python3"
  },
  "language_info": {
   "codemirror_mode": {
    "name": "ipython",
    "version": 3
   },
   "file_extension": ".py",
   "mimetype": "text/x-python",
   "name": "python",
   "nbconvert_exporter": "python",
   "pygments_lexer": "ipython3",
   "version": "3.11.4"
  }
 },
 "nbformat": 4,
 "nbformat_minor": 5
}
