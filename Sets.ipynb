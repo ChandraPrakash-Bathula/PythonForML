{
 "cells": [
  {
   "cell_type": "markdown",
   "id": "0289e37f-2c77-459f-bb5c-f36db3c5dcd1",
   "metadata": {},
   "source": [
    "<h2>Sets</h2>\n",
    "<p>They are unordered and can be mutable, typically used for mathematical operations like, union, intersection.</p>"
   ]
  },
  {
   "cell_type": "code",
   "execution_count": 4,
   "id": "934d911d-d697-408c-9f26-39788a6815bb",
   "metadata": {},
   "outputs": [
    {
     "name": "stdout",
     "output_type": "stream",
     "text": [
      "{1, 2, 3, 4, 5}\n",
      "<class 'set'>\n"
     ]
    }
   ],
   "source": [
    "#set of integers\n",
    "s = {1,2,3,4,5}\n",
    "print(s)\n",
    "print(type(s))"
   ]
  },
  {
   "cell_type": "code",
   "execution_count": 6,
   "id": "e7677933-898e-4343-ab2f-2ce1e74edba6",
   "metadata": {},
   "outputs": [
    {
     "name": "stdout",
     "output_type": "stream",
     "text": [
      "<class 'set'>\n"
     ]
    }
   ],
   "source": [
    "#set does not allow duplicates\n",
    "s={1,2,3,4,1,2,1}\n",
    "print(type(s))"
   ]
  },
  {
   "cell_type": "code",
   "execution_count": 12,
   "id": "30bf7a50-a448-4f30-963a-68a9541ea6c3",
   "metadata": {},
   "outputs": [
    {
     "name": "stdout",
     "output_type": "stream",
     "text": [
      "{1, 2, 3, 4}\n"
     ]
    }
   ],
   "source": [
    "#we can make sets from a list.\n",
    "s = [1,2,3,4]\n",
    "a = set(s)\n",
    "print(a)"
   ]
  },
  {
   "cell_type": "code",
   "execution_count": 15,
   "id": "970a22b7-92f4-42e8-ba61-037f2e5f9eb8",
   "metadata": {},
   "outputs": [
    {
     "name": "stdout",
     "output_type": "stream",
     "text": [
      "<class 'set'>\n"
     ]
    }
   ],
   "source": [
    "#an empty set can be created using set.\n",
    "l = set()\n",
    "print(type(l))"
   ]
  },
  {
   "cell_type": "code",
   "execution_count": 16,
   "id": "cac3a6fe-90a6-41a6-942a-db9f7135ca8e",
   "metadata": {},
   "outputs": [
    {
     "ename": "TypeError",
     "evalue": "'set' object is not subscriptable",
     "output_type": "error",
     "traceback": [
      "\u001b[0;31m---------------------------------------------------------------------------\u001b[0m",
      "\u001b[0;31mTypeError\u001b[0m                                 Traceback (most recent call last)",
      "Cell \u001b[0;32mIn[16], line 3\u001b[0m\n\u001b[1;32m      1\u001b[0m \u001b[38;5;66;03m#sets cannot be indexed as they are unordered.\u001b[39;00m\n\u001b[1;32m      2\u001b[0m s\u001b[38;5;241m=\u001b[39m{\u001b[38;5;241m1\u001b[39m,\u001b[38;5;241m3\u001b[39m}\n\u001b[0;32m----> 3\u001b[0m \u001b[43ms\u001b[49m\u001b[43m[\u001b[49m\u001b[38;5;241;43m1\u001b[39;49m\u001b[43m]\u001b[49m\n",
      "\u001b[0;31mTypeError\u001b[0m: 'set' object is not subscriptable"
     ]
    }
   ],
   "source": [
    "#sets cannot be indexed as they are unordered.\n",
    "s={1,3}\n",
    "s[1]"
   ]
  },
  {
   "cell_type": "code",
   "execution_count": 18,
   "id": "0b8990b1-27d2-452f-819a-b7a1046d5699",
   "metadata": {},
   "outputs": [
    {
     "name": "stdout",
     "output_type": "stream",
     "text": [
      "{1, 3, 4}\n"
     ]
    }
   ],
   "source": [
    "#add single elements using add\n",
    "s.add(4)\n",
    "print(s)"
   ]
  },
  {
   "cell_type": "code",
   "execution_count": 21,
   "id": "45b6fa74-ddca-4789-86cb-66f863da1605",
   "metadata": {},
   "outputs": [
    {
     "name": "stdout",
     "output_type": "stream",
     "text": [
      "{1, 2, 3, 4}\n",
      "{1, 2, 3, 4, 34, 421, 72, 11, 12, 45, 465}\n"
     ]
    }
   ],
   "source": [
    "#add list with another set.\n",
    "list=[1,2,3]\n",
    "s.update(list)\n",
    "print(s)\n",
    "s.update([11,12,34,45],{421,465,72})\n",
    "print(s)"
   ]
  },
  {
   "cell_type": "code",
   "execution_count": 22,
   "id": "88df743b-a078-4315-b248-39fff54113e2",
   "metadata": {},
   "outputs": [
    {
     "name": "stdout",
     "output_type": "stream",
     "text": [
      "{1, 2, 4, 7, 8, 9, 56}\n",
      "{1, 2, 4, 7, 9, 56}\n"
     ]
    }
   ],
   "source": [
    "s={1,2,3,4,56,7,8,9}\n",
    "s.discard(3)\n",
    "print(s)\n",
    "s.remove(8)\n",
    "print(s)"
   ]
  },
  {
   "cell_type": "code",
   "execution_count": 23,
   "id": "998d5466-b251-4eae-9ec7-4b8186b1b3a4",
   "metadata": {},
   "outputs": [
    {
     "name": "stdout",
     "output_type": "stream",
     "text": [
      "{1, 2, 4, 7, 9, 56}\n"
     ]
    }
   ],
   "source": [
    "s.discard(72)\n",
    "print(s)"
   ]
  },
  {
   "cell_type": "code",
   "execution_count": 27,
   "id": "2fbfd30c-d278-47b3-b21a-7c0c9109888a",
   "metadata": {},
   "outputs": [
    {
     "data": {
      "text/plain": [
       "1"
      ]
     },
     "execution_count": 27,
     "metadata": {},
     "output_type": "execute_result"
    }
   ],
   "source": [
    "#pop() removes a random number and catches that number.\n",
    "s={1,2,3,4,56,7,8,9}\n",
    "a = s.pop()\n",
    "a"
   ]
  },
  {
   "cell_type": "code",
   "execution_count": 29,
   "id": "1476f3d7-9203-436b-9864-b3ad810e406f",
   "metadata": {},
   "outputs": [
    {
     "data": {
      "text/plain": [
       "set()"
      ]
     },
     "execution_count": 29,
     "metadata": {},
     "output_type": "execute_result"
    }
   ],
   "source": [
    "#clear() removes entire set\n",
    "s={1,2,3,4,56,7,8,9}\n",
    "s.clear()\n",
    "s"
   ]
  },
  {
   "cell_type": "code",
   "execution_count": 30,
   "id": "d5f3bf33-2773-4c17-b9d6-75c7e43b3d57",
   "metadata": {},
   "outputs": [
    {
     "data": {
      "text/plain": [
       "{1, 2, 3, 4, 7, 8, 9, 11, 13, 14, 17, 18, 56, 91, 121, 516}"
      ]
     },
     "execution_count": 30,
     "metadata": {},
     "output_type": "execute_result"
    }
   ],
   "source": [
    "#union of sets can be done using two ways. by using | or by using union()\n",
    "\n",
    "s={1,2,3,4,56,7,8,9}\n",
    "m={11,121,13,14,516,17,18,91}\n",
    "a = s|m\n",
    "a"
   ]
  },
  {
   "cell_type": "code",
   "execution_count": 31,
   "id": "c2a5762c-17fe-4478-80f2-8920b41c8201",
   "metadata": {},
   "outputs": [
    {
     "data": {
      "text/plain": [
       "{1, 2, 3, 4, 7, 8, 9, 11, 13, 14, 17, 18, 56, 91, 121, 516}"
      ]
     },
     "execution_count": 31,
     "metadata": {},
     "output_type": "execute_result"
    }
   ],
   "source": [
    "s={1,2,3,4,56,7,8,9}\n",
    "m={11,121,13,14,516,17,18,91}\n",
    "a = s.union(m)\n",
    "a"
   ]
  },
  {
   "cell_type": "code",
   "execution_count": 32,
   "id": "b333910e-1617-4b03-a647-45ced84d9a0b",
   "metadata": {},
   "outputs": [
    {
     "data": {
      "text/plain": [
       "{3, 7, 56}"
      ]
     },
     "execution_count": 32,
     "metadata": {},
     "output_type": "execute_result"
    }
   ],
   "source": [
    "#intersection of two sets can be done using & and intersection()\n",
    "s={1,2,3,4,56,7,8,9}\n",
    "m={11,121,3,14,56,7,18,91}\n",
    "b = s&m\n",
    "b"
   ]
  },
  {
   "cell_type": "code",
   "execution_count": 34,
   "id": "9ea60d96-fe06-430d-818f-5d4944342034",
   "metadata": {},
   "outputs": [
    {
     "data": {
      "text/plain": [
       "{3, 7, 56}"
      ]
     },
     "execution_count": 34,
     "metadata": {},
     "output_type": "execute_result"
    }
   ],
   "source": [
    "s={1,2,3,4,56,7,8,9}\n",
    "m={11,121,3,14,56,7,18,91}\n",
    "b = s.intersection(m)\n",
    "b"
   ]
  },
  {
   "cell_type": "code",
   "execution_count": 35,
   "id": "37f72fe3-61fd-4451-8ada-c6180fdb2f10",
   "metadata": {},
   "outputs": [
    {
     "data": {
      "text/plain": [
       "{1, 2, 4, 8, 9}"
      ]
     },
     "execution_count": 35,
     "metadata": {},
     "output_type": "execute_result"
    }
   ],
   "source": [
    "#set difference is set of elements that are present in set1 not in set2\n",
    "s={1,2,3,4,56,7,8,9}\n",
    "m={11,121,3,14,56,7,18,91}\n",
    "b = s-m\n",
    "b"
   ]
  },
  {
   "cell_type": "code",
   "execution_count": 36,
   "id": "f2350e8e-2321-4ad8-bae2-cd73540ca524",
   "metadata": {},
   "outputs": [
    {
     "data": {
      "text/plain": [
       "{1, 2, 4, 8, 9}"
      ]
     },
     "execution_count": 36,
     "metadata": {},
     "output_type": "execute_result"
    }
   ],
   "source": [
    "s={1,2,3,4,56,7,8,9}\n",
    "m={11,121,3,14,56,7,18,91}\n",
    "b = s.difference(m)\n",
    "b"
   ]
  },
  {
   "cell_type": "code",
   "execution_count": 37,
   "id": "58e77054-982b-482c-b6e5-c0d5358eba66",
   "metadata": {},
   "outputs": [
    {
     "data": {
      "text/plain": [
       "{1, 2, 4, 8, 9, 11, 14, 18, 91, 121}"
      ]
     },
     "execution_count": 37,
     "metadata": {},
     "output_type": "execute_result"
    }
   ],
   "source": [
    "#symmetric difference is the set in which all the common elements in both the sets are excluded.\n",
    "s={1,2,3,4,56,7,8,9}\n",
    "m={11,121,3,14,56,7,18,91}\n",
    "b = s^m\n",
    "b"
   ]
  },
  {
   "cell_type": "code",
   "execution_count": 39,
   "id": "0ce1e742-0213-43af-93c2-9c73e2b65a35",
   "metadata": {},
   "outputs": [
    {
     "data": {
      "text/plain": [
       "{1, 2, 4, 8, 9, 11, 14, 18, 91, 121}"
      ]
     },
     "execution_count": 39,
     "metadata": {},
     "output_type": "execute_result"
    }
   ],
   "source": [
    "s={1,2,3,4,56,7,8,9}\n",
    "m={11,121,3,14,56,7,18,91}\n",
    "b = s.symmetric_difference(m)\n",
    "b"
   ]
  },
  {
   "cell_type": "code",
   "execution_count": 43,
   "id": "4936487a-5c7a-442f-a1ec-a63ea01e3862",
   "metadata": {},
   "outputs": [
    {
     "name": "stdout",
     "output_type": "stream",
     "text": [
      "True\n",
      "False\n"
     ]
    }
   ],
   "source": [
    "#subsets are the sets that are part of a set.\n",
    "s={1,7,8,9}\n",
    "m={1,121,3,14,56,7,8,18,9,81}\n",
    "print(s.issubset(m))\n",
    "print(m.issubset(s))"
   ]
  },
  {
   "cell_type": "code",
   "execution_count": 44,
   "id": "3865b701-b3ed-406e-b6c9-7ea1e10dbca0",
   "metadata": {},
   "outputs": [
    {
     "data": {
      "text/plain": [
       "frozenset({1, 2, 3})"
      ]
     },
     "execution_count": 44,
     "metadata": {},
     "output_type": "execute_result"
    }
   ],
   "source": [
    "#frozen sets are immutable\n",
    "s = frozenset([1,2,3])\n",
    "s"
   ]
  },
  {
   "cell_type": "code",
   "execution_count": null,
   "id": "b0b282c3-b142-476e-8661-bd86bcab7231",
   "metadata": {},
   "outputs": [],
   "source": []
  }
 ],
 "metadata": {
  "kernelspec": {
   "display_name": "Python 3 (ipykernel)",
   "language": "python",
   "name": "python3"
  },
  "language_info": {
   "codemirror_mode": {
    "name": "ipython",
    "version": 3
   },
   "file_extension": ".py",
   "mimetype": "text/x-python",
   "name": "python",
   "nbconvert_exporter": "python",
   "pygments_lexer": "ipython3",
   "version": "3.11.4"
  }
 },
 "nbformat": 4,
 "nbformat_minor": 5
}
