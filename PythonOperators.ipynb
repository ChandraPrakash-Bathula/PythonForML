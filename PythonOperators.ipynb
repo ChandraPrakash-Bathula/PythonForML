{
 "cells": [
  {
   "cell_type": "markdown",
   "id": "ebf54759-cce8-45d1-b2c1-d1591445b9ed",
   "metadata": {},
   "source": [
    "<h2>Python Operators</h2>\n",
    "<p>Operators are special symbols in Python that carry out airthmetic or logical computation.The value that the operator operates on is called an operand.</p>"
   ]
  },
  {
   "cell_type": "markdown",
   "id": "393b49e5-900a-4c18-bfc9-9c6d74aa3e0b",
   "metadata": {},
   "source": [
    "<h3>Operator Types</h3>\n",
    "<ol><li>Airthmetic Operators</li>\n",
    "    <li>Comparison(Relational) Opeators</li>\n",
    "    <li>Logical (Boolean) Operators</li>\n",
    "    <li>Bitwise Operators</li>\n",
    "    <li>Assignment Operators</li>\n",
    "    <li>Special Operators</li>\n",
    "</ol>"
   ]
  },
  {
   "cell_type": "markdown",
   "id": "44e9cb63-34a7-4149-b967-122dbaa36983",
   "metadata": {},
   "source": [
    "<h4>Airthmetic Operators</h4>\n",
    "<p>Airthmetic Operators are used to perform mathematical operations like addition, subraction, multiplication etc.\n",
    "<br>\n",
    "+ , - , * , /,%, // , ** are airthmetic operators.</p>"
   ]
  },
  {
   "cell_type": "code",
   "execution_count": 6,
   "id": "60de0a63-1d8a-47b8-bbd2-e2b2c7b690d0",
   "metadata": {},
   "outputs": [
    {
     "name": "stdout",
     "output_type": "stream",
     "text": [
      "30\n",
      "-10\n",
      "200\n",
      "5.0\n",
      "10\n",
      "7\n",
      "100000000000000000000\n"
     ]
    }
   ],
   "source": [
    "x,y = 10,20\n",
    "print(x+y)\n",
    "print(x-y)\n",
    "print(x*y)\n",
    "print(10/2)\n",
    "print(x%y)\n",
    "print(15//2)\n",
    "print(x**y)"
   ]
  },
  {
   "cell_type": "markdown",
   "id": "71691b92-0bf2-44eb-a503-c3fc4a21de3a",
   "metadata": {},
   "source": [
    "<h3>Comparison Operators</h3>\n",
    "<p>Comparison Operators are used to compare values. It either returns True or False according to the condition.<br> >, < , == , !=, >=, <= are comparison operators.</p>"
   ]
  },
  {
   "cell_type": "code",
   "execution_count": 7,
   "id": "625284d1-0ef7-4d9d-b3cc-c5b29bb95ccf",
   "metadata": {},
   "outputs": [
    {
     "name": "stdout",
     "output_type": "stream",
     "text": [
      "True\n",
      "False\n",
      "False\n",
      "True\n",
      "True\n",
      "False\n"
     ]
    }
   ],
   "source": [
    "a,b  = 10,20\n",
    "print(a<b) #check if a is less than b\n",
    "print(a>b) #check if a is greater than b\n",
    "print(a==b) #check if a is equals to b\n",
    "print(a!=b) #check if a is not equals to b\n",
    "print(a<=b) #check if a is less than or equals to b\n",
    "print(a>=b) #check if a is greater than or equal to b"
   ]
  },
  {
   "cell_type": "markdown",
   "id": "bd1c213b-5c1a-4bf3-bb37-9dd80a7f8842",
   "metadata": {},
   "source": [
    "<h3>Logical Operators</h3>\n",
    "<p>Logical Operators are <b>and, or, not operators.</b></p>\n",
    "<ul><p>For AND</p>\n",
    "    <li>TT = T</li>\n",
    "    <li>TF = F</li>\n",
    "    <li>FF = F</li>\n",
    "    <li>FT = F</li>\n",
    "</ul>\n",
    "<ul><p>For OR</p>\n",
    "    <li>TT = T</li>\n",
    "    <li>TF = T</li>\n",
    "    <li>FT = T</li>\n",
    "    <li>FF = F</li>\n",
    "</ul>"
   ]
  },
  {
   "cell_type": "code",
   "execution_count": 8,
   "id": "0b74c299-fee8-475d-88d3-1d9db89d1b32",
   "metadata": {},
   "outputs": [
    {
     "name": "stdout",
     "output_type": "stream",
     "text": [
      "False\n",
      "True\n",
      "True\n"
     ]
    }
   ],
   "source": [
    "a, b = True, False\n",
    "print(a and b)\n",
    "print(a or b)\n",
    "print(not b)"
   ]
  },
  {
   "cell_type": "markdown",
   "id": "acbd7877-ca1c-4683-8671-fcccab186d11",
   "metadata": {},
   "source": [
    "<h3>Bitwise Operators</h3>\n",
    "<p>Bitwise Operators act on operands as if they were string on binary digits. It operates bit by bit &, |, ~, ^, >>, << are Bitwise operators</p>"
   ]
  },
  {
   "cell_type": "code",
   "execution_count": 12,
   "id": "8b9d0969-1a98-40c6-8093-a7fabec97772",
   "metadata": {},
   "outputs": [
    {
     "name": "stdout",
     "output_type": "stream",
     "text": [
      "0\n",
      "14\n",
      "-11\n",
      "14\n",
      "160\n",
      "0\n"
     ]
    }
   ],
   "source": [
    "a, b = 10, 4\n",
    "\n",
    "#Bitwise AND\n",
    "print(a&b)\n",
    "#Bitwise OR\n",
    "print(a|b)\n",
    "#Bitwise NOT\n",
    "print(~a)\n",
    "#Bitwise XOR\n",
    "print(a^b)\n",
    "#Bitwise rightshift\n",
    "print(a<<b)\n",
    "#Bitwise leftshift\n",
    "print(a>>b)"
   ]
  },
  {
   "cell_type": "markdown",
   "id": "e3045237-b9ea-4198-b413-01ae2ec9bbe7",
   "metadata": {},
   "source": [
    "<h3>Assignment Operators</h3>\n",
    "<p>Assignment Operators are used in Python to assign values to variables.\n",
    "<br>\n",
    "a = 5 is a simple assignment operator that assigns the value 5 on the right to the variable a on the left.</p>\n",
    "\n",
    "<p>=, +=, -=, *=, /=, %=, //=, **=, &=, |=, ^=, >>=, <<= are Assignment Operators.</p>"
   ]
  },
  {
   "cell_type": "code",
   "execution_count": 24,
   "id": "b3b3340b-a9ac-469d-92f3-4ccc0da95e61",
   "metadata": {},
   "outputs": [
    {
     "name": "stdout",
     "output_type": "stream",
     "text": [
      "20\n",
      "10\n",
      "100\n",
      "10.0\n",
      "0.0\n",
      "0.0\n",
      "1\n"
     ]
    }
   ],
   "source": [
    "a = 10\n",
    "#add\n",
    "a+=10\n",
    "print(a)\n",
    "#subract\n",
    "a-=10\n",
    "print(a)\n",
    "#multiply\n",
    "a*=10\n",
    "print(a)\n",
    "#divide\n",
    "a/=10\n",
    "print(a)\n",
    "#modulus\n",
    "a%=10\n",
    "print(a)\n",
    "#floor divison\n",
    "a//=10\n",
    "print(a)\n",
    "#exponent\n",
    "b**=0\n",
    "print(b)"
   ]
  },
  {
   "cell_type": "markdown",
   "id": "64146451-9685-4041-a41b-b02446eb7195",
   "metadata": {},
   "source": [
    "<h3>Special Operators</h3>\n",
    "<h3>Identity Operators</h3>\n",
    "<p><b>is and is not</b> are the identity operators in Python.\n",
    "<br>They are used to check if two values (or variables) are located on the same part of the memory.</p>"
   ]
  },
  {
   "cell_type": "code",
   "execution_count": 26,
   "id": "3c373b2b-79f6-4f9b-8340-93e92b2a78cf",
   "metadata": {},
   "outputs": [
    {
     "name": "stdout",
     "output_type": "stream",
     "text": [
      "True\n",
      "False\n"
     ]
    }
   ],
   "source": [
    "a = 5\n",
    "b = 5\n",
    "print(a is b)\n",
    "print(a is not b)"
   ]
  },
  {
   "cell_type": "code",
   "execution_count": 27,
   "id": "850b4f68-cdfc-49d9-a936-0ceb9d225d2b",
   "metadata": {},
   "outputs": [
    {
     "data": {
      "text/plain": [
       "4365903168"
      ]
     },
     "execution_count": 27,
     "metadata": {},
     "output_type": "execute_result"
    }
   ],
   "source": [
    "id(a)"
   ]
  },
  {
   "cell_type": "code",
   "execution_count": 30,
   "id": "3e804292-8bb8-436f-a612-7d22a8515dfb",
   "metadata": {},
   "outputs": [
    {
     "name": "stdout",
     "output_type": "stream",
     "text": [
      "False\n"
     ]
    }
   ],
   "source": [
    "l1 = [1, 2, 3]\n",
    "l2 = [1, 2, 3]\n",
    "print(l1 is l2)"
   ]
  },
  {
   "cell_type": "code",
   "execution_count": 33,
   "id": "a471efbc-5f50-467e-afee-8b2f345f4a42",
   "metadata": {},
   "outputs": [
    {
     "name": "stdout",
     "output_type": "stream",
     "text": [
      "False\n"
     ]
    }
   ],
   "source": [
    "s1 = 'SUITS'\n",
    "s2 = 'SUITS'\n",
    "print(s1 is not s2)"
   ]
  },
  {
   "cell_type": "markdown",
   "id": "794069de-de98-4e74-8fc8-cdc22cb9b0bf",
   "metadata": {},
   "source": [
    "<h3>Membership Operators</h3>\n",
    "<p><b>in and not in </b>are the membership operators in Python. \n",
    "    <br>They are used to test whether a value or variable is found in a sequence (string, list, tuple, set and dictionary.)</p>"
   ]
  },
  {
   "cell_type": "code",
   "execution_count": 34,
   "id": "ccee3c3d-a459-4db0-be9c-458329c061c3",
   "metadata": {},
   "outputs": [
    {
     "name": "stdout",
     "output_type": "stream",
     "text": [
      "True\n"
     ]
    }
   ],
   "source": [
    "lst = [1,2,3,4]\n",
    "print(1 in lst)"
   ]
  },
  {
   "cell_type": "code",
   "execution_count": 35,
   "id": "eb923643-f7a5-4d3c-b899-87754c647c96",
   "metadata": {},
   "outputs": [
    {
     "name": "stdout",
     "output_type": "stream",
     "text": [
      "True\n"
     ]
    }
   ],
   "source": [
    "d = {1:'a', 2:'b'}\n",
    "print(1 in d)"
   ]
  }
 ],
 "metadata": {
  "kernelspec": {
   "display_name": "Python 3 (ipykernel)",
   "language": "python",
   "name": "python3"
  },
  "language_info": {
   "codemirror_mode": {
    "name": "ipython",
    "version": 3
   },
   "file_extension": ".py",
   "mimetype": "text/x-python",
   "name": "python",
   "nbconvert_exporter": "python",
   "pygments_lexer": "ipython3",
   "version": "3.11.4"
  }
 },
 "nbformat": 4,
 "nbformat_minor": 5
}
