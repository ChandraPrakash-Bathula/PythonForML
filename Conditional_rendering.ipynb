{
 "cells": [
  {
   "cell_type": "code",
   "execution_count": 1,
   "id": "89c1aa08-50ea-4774-a823-3660f78054df",
   "metadata": {},
   "outputs": [
    {
     "name": "stdout",
     "output_type": "stream",
     "text": [
      "None acts as false and cannot be printed.\n"
     ]
    }
   ],
   "source": [
    "if None:\n",
    "    print('None can be printed')\n",
    "print('None acts as false and cannot be printed.')"
   ]
  },
  {
   "cell_type": "code",
   "execution_count": 7,
   "id": "3b2598bf-4a8d-4692-9f8f-017bce705801",
   "metadata": {},
   "outputs": [
    {
     "name": "stdin",
     "output_type": "stream",
     "text": [
      "Enter a Number 32\n"
     ]
    },
    {
     "name": "stdout",
     "output_type": "stream",
     "text": [
      "a is greater than b\n"
     ]
    }
   ],
   "source": [
    "a = 34;\n",
    "b = int(input('Enter a Number'))\n",
    "if a > b:\n",
    "    print('a is greater than b')\n",
    "elif a < b:\n",
    "    print('a is less than b')\n",
    "else:\n",
    "    print('a is equalt to b')\n"
   ]
  },
  {
   "cell_type": "code",
   "execution_count": 8,
   "id": "f69ef397-5025-4dca-b34d-a5e230e32017",
   "metadata": {},
   "outputs": [
    {
     "name": "stdout",
     "output_type": "stream",
     "text": [
      "Number is greater than or equals to 0\n"
     ]
    }
   ],
   "source": [
    "number = 10.5\n",
    "if number > 0 :\n",
    "    if number == 0:\n",
    "        print('Number is equals to 0')\n",
    "    elif number >= 0:\n",
    "        print('Number is greater than or equals to 0')\n",
    "else:\n",
    "    print('Number is positive and greater than 0')"
   ]
  },
  {
   "cell_type": "code",
   "execution_count": 11,
   "id": "11cd3f9f-db6f-4791-b475-69848ff0296f",
   "metadata": {},
   "outputs": [
    {
     "name": "stdout",
     "output_type": "stream",
     "text": [
      "Largest Number among a,b and c is : 50\n"
     ]
    }
   ],
   "source": [
    "a,b,c=10,15,50;\n",
    "if a > b and a >c:\n",
    "    largestNumber = a;\n",
    "elif b>a and b >c :\n",
    "   largestNumber = b;\n",
    "else:\n",
    "    largestNumber = c;\n",
    "print('Largest Number among a,b and c is : {}'.format(largestNumber))"
   ]
  },
  {
   "cell_type": "code",
   "execution_count": null,
   "id": "ca2ff0ea-b225-4cac-9f4b-8aff00342946",
   "metadata": {},
   "outputs": [],
   "source": []
  }
 ],
 "metadata": {
  "kernelspec": {
   "display_name": "Python 3 (ipykernel)",
   "language": "python",
   "name": "python3"
  },
  "language_info": {
   "codemirror_mode": {
    "name": "ipython",
    "version": 3
   },
   "file_extension": ".py",
   "mimetype": "text/x-python",
   "name": "python",
   "nbconvert_exporter": "python",
   "pygments_lexer": "ipython3",
   "version": "3.11.4"
  }
 },
 "nbformat": 4,
 "nbformat_minor": 5
}
