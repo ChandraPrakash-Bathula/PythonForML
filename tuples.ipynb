{
 "cells": [
  {
   "cell_type": "markdown",
   "id": "1a8255fa-1987-4339-b35f-ce32633af738",
   "metadata": {},
   "source": [
    " <h2>Tuples</h2>\n",
    " <p>Tuples are immutable and Lists are mutable.\n",
    "     <br />This is the only difference.</p>"
   ]
  },
  {
   "cell_type": "code",
   "execution_count": 1,
   "id": "c91eec11-d36e-46d5-ba07-11cd10e9d528",
   "metadata": {},
   "outputs": [],
   "source": [
    "#empty tuples\n",
    "tuple = ()"
   ]
  },
  {
   "cell_type": "code",
   "execution_count": 3,
   "id": "3e2ef156-7f25-4678-b545-30a5aaddd29f",
   "metadata": {},
   "outputs": [
    {
     "name": "stdout",
     "output_type": "stream",
     "text": [
      "(1, 'anything can be in tuples.', 2, 34, 2.3)\n"
     ]
    }
   ],
   "source": [
    "t = (1, 'anything can be in tuples.',2,34,2.3)\n",
    "print(t)"
   ]
  },
  {
   "cell_type": "code",
   "execution_count": 4,
   "id": "c3b9295f-ebff-4abd-aa4f-270a3a3c54d3",
   "metadata": {},
   "outputs": [
    {
     "name": "stdout",
     "output_type": "stream",
     "text": [
      "(1, (2, 3, 4), ['Lists can also be a part of tuple.'], 3)\n"
     ]
    }
   ],
   "source": [
    "#nested tuples\n",
    "tuples = (1,(2,3,4),['Lists can also be a part of tuple.'],3)\n",
    "print(tuples)"
   ]
  },
  {
   "cell_type": "code",
   "execution_count": 8,
   "id": "c557caee-bec5-4076-964d-851b92ffb168",
   "metadata": {},
   "outputs": [
    {
     "name": "stdout",
     "output_type": "stream",
     "text": [
      "<class 'str'>\n",
      "<class 'tuple'>\n"
     ]
    }
   ],
   "source": [
    "#if a string is put in tuple it will be a string untill there is a comma at the end.\n",
    "\n",
    "tup = ('It is not a tuple.')\n",
    "print(type(tup))\n",
    "tupp = ('It is a tuple now',)\n",
    "print(type(tupp))"
   ]
  },
  {
   "cell_type": "code",
   "execution_count": 10,
   "id": "502db207-5bb2-4013-bae9-bbf330d8c877",
   "metadata": {},
   "outputs": [
    {
     "name": "stdout",
     "output_type": "stream",
     "text": [
      "<class 'tuple'>\n"
     ]
    }
   ],
   "source": [
    "#paranthesis is optional in a tuple\n",
    "t = 'Now',2,3.4\n",
    "print(type(t))"
   ]
  },
  {
   "cell_type": "code",
   "execution_count": 11,
   "id": "494b5463-f6eb-4e57-893a-19ff8dce65b4",
   "metadata": {},
   "outputs": [
    {
     "data": {
      "text/plain": [
       "81"
      ]
     },
     "execution_count": 11,
     "metadata": {},
     "output_type": "execute_result"
    }
   ],
   "source": [
    "#Accessing of tuples can also be done using index\n",
    "t=('HEhe',1,2.3,4,7,90,81)\n",
    "t[-1]"
   ]
  },
  {
   "cell_type": "code",
   "execution_count": 13,
   "id": "5cc1cc01-4eff-45dd-b44f-159203efc940",
   "metadata": {},
   "outputs": [
    {
     "name": "stdout",
     "output_type": "stream",
     "text": [
      "Lists can also be a part of tuple.\n"
     ]
    }
   ],
   "source": [
    "#nested tuples indexing\n",
    "tuples = (1,(2,3,4),['Lists can also be a part of tuple.'],3)\n",
    "print(tuples[2][0])"
   ]
  },
  {
   "cell_type": "code",
   "execution_count": 17,
   "id": "9726b494-2c91-4d2a-ae1e-2df0fbe66d18",
   "metadata": {},
   "outputs": [
    {
     "name": "stdout",
     "output_type": "stream",
     "text": [
      "('HEhe', 1, 2.3, 4, 7, 90, 81)\n",
      "('HEhe', 2.3, 7, 81)\n",
      "('HEhe', 1, 2.3, 4, 7)\n"
     ]
    }
   ],
   "source": [
    "#slicing is the same as Lists for tuples\n",
    "t=('HEhe',1,2.3,4,7,90,81)\n",
    "print(t[::])\n",
    "print(t[::2])\n",
    "print(t[:-2:1])"
   ]
  },
  {
   "cell_type": "markdown",
   "id": "75e8b96e-4413-4b2d-9c24-13165fa2edd0",
   "metadata": {},
   "source": [
    "<h3>We cannot change tuples as they are immutable.</h3>"
   ]
  },
  {
   "cell_type": "code",
   "execution_count": 18,
   "id": "1ee9ae72-dee7-4444-b28a-29b6f73bad31",
   "metadata": {},
   "outputs": [
    {
     "name": "stdout",
     "output_type": "stream",
     "text": [
      "(1, (2, 3, 4), ['Numbers'], 3)\n"
     ]
    }
   ],
   "source": [
    "#But we can change a list inside a tuple.\n",
    "tuples = (1,(2,3,4),['Lists can also be a part of tuple.'],3)\n",
    "tuples[2][0] = 'Numbers'\n",
    "print(tuples)"
   ]
  },
  {
   "cell_type": "code",
   "execution_count": 19,
   "id": "a647e1b1-df1d-4762-a8dd-70b088036673",
   "metadata": {},
   "outputs": [
    {
     "name": "stdout",
     "output_type": "stream",
     "text": [
      "(0, 1, 2, 3, 4, 5, 6, 7, 8)\n"
     ]
    }
   ],
   "source": [
    "#concatinating tuples using +\n",
    "\n",
    "t = (0,1,2,3,4) + (5,6,7,8)\n",
    "print(t)"
   ]
  },
  {
   "cell_type": "code",
   "execution_count": 21,
   "id": "5244fe9b-f692-48dd-ac82-5d3910ea2015",
   "metadata": {},
   "outputs": [
    {
     "data": {
      "text/plain": [
       "('Kiki', 'Kiki', 'Kiki', 'Kiki')"
      ]
     },
     "execution_count": 21,
     "metadata": {},
     "output_type": "execute_result"
    }
   ],
   "source": [
    "#We can use multiply * to repeat tuple ekements\n",
    "t = (('Kiki',)*4)\n",
    "t"
   ]
  },
  {
   "cell_type": "markdown",
   "id": "274acc0b-563d-4bb9-9a45-7b50c992608e",
   "metadata": {},
   "source": [
    "<h4>We cannot delete or remove the elements as they are immutable.</h4>"
   ]
  }
 ],
 "metadata": {
  "kernelspec": {
   "display_name": "Python 3 (ipykernel)",
   "language": "python",
   "name": "python3"
  },
  "language_info": {
   "codemirror_mode": {
    "name": "ipython",
    "version": 3
   },
   "file_extension": ".py",
   "mimetype": "text/x-python",
   "name": "python",
   "nbconvert_exporter": "python",
   "pygments_lexer": "ipython3",
   "version": "3.11.4"
  }
 },
 "nbformat": 4,
 "nbformat_minor": 5
}
