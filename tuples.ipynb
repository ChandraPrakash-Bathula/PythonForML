{
 "cells": [
  {
   "cell_type": "markdown",
   "id": "1a8255fa-1987-4339-b35f-ce32633af738",
   "metadata": {},
   "source": [
    " <h2>Tuples</h2>\n",
    " <p>Tuples are immutable and Lists are mutable.\n",
    "     <br />This is the only difference.</p>"
   ]
  },
  {
   "cell_type": "code",
   "execution_count": 1,
   "id": "c91eec11-d36e-46d5-ba07-11cd10e9d528",
   "metadata": {},
   "outputs": [],
   "source": [
    "#empty tuples\n",
    "tuple = ()"
   ]
  },
  {
   "cell_type": "code",
   "execution_count": 3,
   "id": "3e2ef156-7f25-4678-b545-30a5aaddd29f",
   "metadata": {},
   "outputs": [
    {
     "name": "stdout",
     "output_type": "stream",
     "text": [
      "(1, 'anything can be in tuples.', 2, 34, 2.3)\n"
     ]
    }
   ],
   "source": [
    "t = (1, 'anything can be in tuples.',2,34,2.3)\n",
    "print(t)"
   ]
  },
  {
   "cell_type": "code",
   "execution_count": 4,
   "id": "c3b9295f-ebff-4abd-aa4f-270a3a3c54d3",
   "metadata": {},
   "outputs": [
    {
     "name": "stdout",
     "output_type": "stream",
     "text": [
      "(1, (2, 3, 4), ['Lists can also be a part of tuple.'], 3)\n"
     ]
    }
   ],
   "source": [
    "#nested tuples\n",
    "tuples = (1,(2,3,4),['Lists can also be a part of tuple.'],3)\n",
    "print(tuples)"
   ]
  },
  {
   "cell_type": "code",
   "execution_count": 8,
   "id": "c557caee-bec5-4076-964d-851b92ffb168",
   "metadata": {},
   "outputs": [
    {
     "name": "stdout",
     "output_type": "stream",
     "text": [
      "<class 'str'>\n",
      "<class 'tuple'>\n"
     ]
    }
   ],
   "source": [
    "#if a string is put in tuple it will be a string untill there is a comma at the end.\n",
    "\n",
    "tup = ('It is not a tuple.')\n",
    "print(type(tup))\n",
    "tupp = ('It is a tuple now',)\n",
    "print(type(tupp))"
   ]
  },
  {
   "cell_type": "code",
   "execution_count": 10,
   "id": "502db207-5bb2-4013-bae9-bbf330d8c877",
   "metadata": {},
   "outputs": [
    {
     "name": "stdout",
     "output_type": "stream",
     "text": [
      "<class 'tuple'>\n"
     ]
    }
   ],
   "source": [
    "#paranthesis is optional in a tuple\n",
    "t = 'Now',2,3.4\n",
    "print(type(t))"
   ]
  },
  {
   "cell_type": "code",
   "execution_count": 11,
   "id": "494b5463-f6eb-4e57-893a-19ff8dce65b4",
   "metadata": {},
   "outputs": [
    {
     "data": {
      "text/plain": [
       "81"
      ]
     },
     "execution_count": 11,
     "metadata": {},
     "output_type": "execute_result"
    }
   ],
   "source": [
    "#Accessing of tuples can also be done using index\n",
    "t=('HEhe',1,2.3,4,7,90,81)\n",
    "t[-1]"
   ]
  },
  {
   "cell_type": "code",
   "execution_count": 13,
   "id": "5cc1cc01-4eff-45dd-b44f-159203efc940",
   "metadata": {},
   "outputs": [
    {
     "name": "stdout",
     "output_type": "stream",
     "text": [
      "Lists can also be a part of tuple.\n"
     ]
    }
   ],
   "source": [
    "#nested tuples indexing\n",
    "tuples = (1,(2,3,4),['Lists can also be a part of tuple.'],3)\n",
    "print(tuples[2][0])"
   ]
  },
  {
   "cell_type": "code",
   "execution_count": 17,
   "id": "9726b494-2c91-4d2a-ae1e-2df0fbe66d18",
   "metadata": {},
   "outputs": [
    {
     "name": "stdout",
     "output_type": "stream",
     "text": [
      "('HEhe', 1, 2.3, 4, 7, 90, 81)\n",
      "('HEhe', 2.3, 7, 81)\n",
      "('HEhe', 1, 2.3, 4, 7)\n"
     ]
    }
   ],
   "source": [
    "#slicing is the same as Lists for tuples\n",
    "t=('HEhe',1,2.3,4,7,90,81)\n",
    "print(t[::])\n",
    "print(t[::2])\n",
    "print(t[:-2:1])"
   ]
  },
  {
   "cell_type": "markdown",
   "id": "75e8b96e-4413-4b2d-9c24-13165fa2edd0",
   "metadata": {},
   "source": [
    "<h3>We cannot change tuples as they are immutable.</h3>"
   ]
  },
  {
   "cell_type": "code",
   "execution_count": 18,
   "id": "1ee9ae72-dee7-4444-b28a-29b6f73bad31",
   "metadata": {},
   "outputs": [
    {
     "name": "stdout",
     "output_type": "stream",
     "text": [
      "(1, (2, 3, 4), ['Numbers'], 3)\n"
     ]
    }
   ],
   "source": [
    "#But we can change a list inside a tuple.\n",
    "tuples = (1,(2,3,4),['Lists can also be a part of tuple.'],3)\n",
    "tuples[2][0] = 'Numbers'\n",
    "print(tuples)"
   ]
  },
  {
   "cell_type": "code",
   "execution_count": 19,
   "id": "a647e1b1-df1d-4762-a8dd-70b088036673",
   "metadata": {},
   "outputs": [
    {
     "name": "stdout",
     "output_type": "stream",
     "text": [
      "(0, 1, 2, 3, 4, 5, 6, 7, 8)\n"
     ]
    }
   ],
   "source": [
    "#concatinating tuples using +\n",
    "\n",
    "t = (0,1,2,3,4) + (5,6,7,8)\n",
    "print(t)"
   ]
  },
  {
   "cell_type": "code",
   "execution_count": 21,
   "id": "5244fe9b-f692-48dd-ac82-5d3910ea2015",
   "metadata": {},
   "outputs": [
    {
     "data": {
      "text/plain": [
       "('Kiki', 'Kiki', 'Kiki', 'Kiki')"
      ]
     },
     "execution_count": 21,
     "metadata": {},
     "output_type": "execute_result"
    }
   ],
   "source": [
    "#We can use multiply * to repeat tuple ekements\n",
    "t = (('Kiki',)*4)\n",
    "t"
   ]
  },
  {
   "cell_type": "markdown",
   "id": "274acc0b-563d-4bb9-9a45-7b50c992608e",
   "metadata": {},
   "source": [
    "<h4>We cannot delete or remove the elements as they are immutable.</h4>"
   ]
  },
  {
   "cell_type": "code",
   "execution_count": 24,
   "id": "48870ded-561f-41fc-8a01-a60705584e69",
   "metadata": {},
   "outputs": [],
   "source": [
    "#But we can entirely delete items from a tuple.\n",
    "tuple = (1,2,3,4,5,6,7,8,9,0)\n",
    "del tuple"
   ]
  },
  {
   "cell_type": "code",
   "execution_count": 26,
   "id": "5fb9d12b-45bb-4976-b480-3b87d8e12cd8",
   "metadata": {},
   "outputs": [
    {
     "name": "stdout",
     "output_type": "stream",
     "text": [
      "4\n"
     ]
    }
   ],
   "source": [
    "tuple = (0,1,1,1,1,2,2,3,4,4,5,6,7,8,9,9,9,9,9)\n",
    "print(tuple.count(1))"
   ]
  },
  {
   "cell_type": "code",
   "execution_count": 29,
   "id": "c1ae740c-255b-4342-9463-9fa1a3beb6c9",
   "metadata": {},
   "outputs": [
    {
     "name": "stdout",
     "output_type": "stream",
     "text": [
      "5\n"
     ]
    }
   ],
   "source": [
    "#index function in tuple outputs the index of the first element in a repeated element sequence.\n",
    "tuple = (0,1,1,1,1,2,2,3,4,4,5,6,7,8,9,9,9,9,9)\n",
    "tuple.index(1)\n",
    "print(tuple.index(2))"
   ]
  },
  {
   "cell_type": "code",
   "execution_count": 30,
   "id": "b952674d-9e55-41f4-b7c8-b23baaada1f0",
   "metadata": {},
   "outputs": [
    {
     "name": "stdout",
     "output_type": "stream",
     "text": [
      "0 is present in the above tuple.\n"
     ]
    }
   ],
   "source": [
    "#Tuple Membership\n",
    "tuple = (0,1,1,1,1,2,2,3,4,4,5,6,7,8,9,9,9,9,9)\n",
    "if 0 in tuple:\n",
    "    print('0 is present in the above tuple.')"
   ]
  },
  {
   "cell_type": "code",
   "execution_count": 35,
   "id": "fb2939d6-7734-4b43-b2d6-88d1b8df03fa",
   "metadata": {},
   "outputs": [
    {
     "name": "stdout",
     "output_type": "stream",
     "text": [
      "19\n",
      "[3, 4, 7, 9, 65, 89, 90, 109, 241]\n"
     ]
    }
   ],
   "source": [
    "#tuple length and tuple sort is same as lists:\n",
    "tuple = (0,1,1,1,1,2,2,3,4,4,5,6,7,8,9,9,9,9,9)\n",
    "print(len(tuple))\n",
    "tuple = (9,3,241,4,65,7,89,109,90)\n",
    "new_tuple = sorted(tuple)\n",
    "print(new_tuple)"
   ]
  },
  {
   "cell_type": "code",
   "execution_count": 36,
   "id": "9c084581-7050-4550-8523-b981d9e0d3f7",
   "metadata": {},
   "outputs": [
    {
     "name": "stdout",
     "output_type": "stream",
     "text": [
      "241\n",
      "3\n",
      "617\n"
     ]
    }
   ],
   "source": [
    "#Largest, smallest and sum of the elements in the tuple\n",
    "tuple = (9,3,241,4,65,7,89,109,90)\n",
    "print(max(tuple))\n",
    "print(min(tuple))\n",
    "print(sum(tuple))"
   ]
  },
  {
   "cell_type": "code",
   "execution_count": null,
   "id": "abe7de55-9d32-4e34-add6-81b60794a083",
   "metadata": {},
   "outputs": [],
   "source": []
  }
 ],
 "metadata": {
  "kernelspec": {
   "display_name": "Python 3 (ipykernel)",
   "language": "python",
   "name": "python3"
  },
  "language_info": {
   "codemirror_mode": {
    "name": "ipython",
    "version": 3
   },
   "file_extension": ".py",
   "mimetype": "text/x-python",
   "name": "python",
   "nbconvert_exporter": "python",
   "pygments_lexer": "ipython3",
   "version": "3.11.4"
  }
 },
 "nbformat": 4,
 "nbformat_minor": 5
}
