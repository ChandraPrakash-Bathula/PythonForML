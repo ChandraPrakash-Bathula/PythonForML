{
 "cells": [
  {
   "cell_type": "code",
   "execution_count": 1,
   "id": "d9642b92-d842-470d-bd86-b6d96a5ba6a8",
   "metadata": {},
   "outputs": [
    {
     "name": "stdout",
     "output_type": "stream",
     "text": [
      "['False', 'None', 'True', 'and', 'as', 'assert', 'async', 'await', 'break', 'class', 'continue', 'def', 'del', 'elif', 'else', 'except', 'finally', 'for', 'from', 'global', 'if', 'import', 'in', 'is', 'lambda', 'nonlocal', 'not', 'or', 'pass', 'raise', 'return', 'try', 'while', 'with', 'yield']\n",
      "\n",
      "Total number of keywords:  35\n"
     ]
    }
   ],
   "source": [
    "#Get all keywords in Python\n",
    "\n",
    "import keyword\n",
    "print(keyword.kwlist)\n",
    "print('\\nTotal number of keywords: ', len(keyword.kwlist))"
   ]
  },
  {
   "cell_type": "code",
   "execution_count": 7,
   "id": "775287d2-8d15-41df-ab43-5499073ed60f",
   "metadata": {},
   "outputs": [
    {
     "name": "stdout",
     "output_type": "stream",
     "text": [
      "Identifier is nothing but any variables, class or function name. \n",
      "Identifiers cannot be keywords.\n",
      "Identifier cannot start with a digit, instead it can have digit in it.\n"
     ]
    }
   ],
   "source": [
    "#Identifiers in Python\n",
    "\n",
    "identifier_1 = 'Identifier is nothing but any variables, class or function name. \\nIdentifiers cannot be keywords.'\n",
    "print(identifier_1)\n",
    "identifier2 = 'Identifier cannot start with a digit, instead it can have digit in it.'\n",
    "print(identifier2)\n",
    "identifer_abc_3 = 'Identifers cannot have special symbols like !, @, #, $, % in them.'\n",
    "print(identifer_abc_3)"
   ]
  },
  {
   "cell_type": "code",
   "execution_count": null,
   "id": "dbd8c976-ba67-46fd-bc06-fd368b32124b",
   "metadata": {},
   "outputs": [],
   "source": []
  }
 ],
 "metadata": {
  "kernelspec": {
   "display_name": "Python 3 (ipykernel)",
   "language": "python",
   "name": "python3"
  },
  "language_info": {
   "codemirror_mode": {
    "name": "ipython",
    "version": 3
   },
   "file_extension": ".py",
   "mimetype": "text/x-python",
   "name": "python",
   "nbconvert_exporter": "python",
   "pygments_lexer": "ipython3",
   "version": "3.11.4"
  }
 },
 "nbformat": 4,
 "nbformat_minor": 5
}
