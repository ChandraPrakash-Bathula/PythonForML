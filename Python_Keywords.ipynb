{
 "cells": [
  {
   "cell_type": "code",
   "execution_count": 1,
   "id": "d9642b92-d842-470d-bd86-b6d96a5ba6a8",
   "metadata": {},
   "outputs": [
    {
     "name": "stdout",
     "output_type": "stream",
     "text": [
      "['False', 'None', 'True', 'and', 'as', 'assert', 'async', 'await', 'break', 'class', 'continue', 'def', 'del', 'elif', 'else', 'except', 'finally', 'for', 'from', 'global', 'if', 'import', 'in', 'is', 'lambda', 'nonlocal', 'not', 'or', 'pass', 'raise', 'return', 'try', 'while', 'with', 'yield']\n",
      "\n",
      "Total number of keywords:  35\n"
     ]
    }
   ],
   "source": [
    "#Get all keywords in Python\n",
    "\n",
    "import keyword\n",
    "print(keyword.kwlist)\n",
    "print('\\nTotal number of keywords: ', len(keyword.kwlist))"
   ]
  },
  {
   "cell_type": "code",
   "execution_count": 8,
   "id": "775287d2-8d15-41df-ab43-5499073ed60f",
   "metadata": {},
   "outputs": [
    {
     "name": "stdout",
     "output_type": "stream",
     "text": [
      "Identifier is nothing but any variables, class or function name. \n",
      "Identifiers cannot be keywords.\n",
      "Identifier cannot start with a digit, instead it can have digit in it.\n",
      "Identifers cannot have special symbols like !, @, #, $, % in them.\n"
     ]
    }
   ],
   "source": [
    "#Identifiers in Python\n",
    "\n",
    "identifier_1 = 'Identifier is nothing but any variables, class or function name. \\nIdentifiers cannot be keywords.'\n",
    "print(identifier_1)\n",
    "identifier2 = 'Identifier cannot start with a digit, instead it can have digit in it.'\n",
    "print(identifier2)\n",
    "identifer_abc_3 = 'Identifers cannot have special symbols like !, @, #, $, % in them.'\n",
    "print(identifer_abc_3)"
   ]
  },
  {
   "cell_type": "code",
   "execution_count": 19,
   "id": "dbd8c976-ba67-46fd-bc06-fd368b32124b",
   "metadata": {},
   "outputs": [
    {
     "name": "stdout",
     "output_type": "stream",
     "text": [
      "In python comments are done using # at beginning of the line. This comments cannot be executed.\n",
      "We can have multi line comments using # at each line beginning.\n"
     ]
    }
   ],
   "source": [
    "#Python Comments\n",
    "\n",
    "print('In python comments are done using # at beginning of the line. This comments cannot be executed.')\n",
    "print('We can have multi line comments using # at each line beginning.')\n"
   ]
  },
  {
   "cell_type": "markdown",
   "id": "9166335a-645d-448a-81c8-7148a32d160b",
   "metadata": {},
   "source": [
    "<p>''' or \"\"\" </p>"
   ]
  },
  {
   "cell_type": "code",
   "execution_count": 22,
   "id": "36925569-b860-4fee-8e24-42f6447d5615",
   "metadata": {},
   "outputs": [
    {
     "name": "stdout",
     "output_type": "stream",
     "text": [
      "In general python has some serious indentation rules and four whitespaces are preferred over tabs.\n",
      "0\n",
      "1\n",
      "2\n",
      "3\n",
      "4\n",
      "5\n",
      "6\n",
      "7\n",
      "8\n",
      "9\n",
      "10\n",
      "11\n"
     ]
    }
   ],
   "source": [
    "#Python Indentation\n",
    "\n",
    "print('In general python has some serious indentation rules and four whitespaces are preferred over tabs.')\n",
    "for i in range (12):\n",
    "    print(i)"
   ]
  },
  {
   "cell_type": "markdown",
   "id": "68e105c3-0b03-493c-8dca-f4f52200d43b",
   "metadata": {},
   "source": [
    "<h4>We can ignore indentation in line continuation, but it is always a good practice to have indentation.</h4>"
   ]
  },
  {
   "cell_type": "code",
   "execution_count": 23,
   "id": "9395e889-c647-4109-b099-1e785aab7082",
   "metadata": {},
   "outputs": [
    {
     "name": "stdout",
     "output_type": "stream",
     "text": [
      "Machine Learning\n"
     ]
    }
   ],
   "source": [
    "if True:\n",
    "    print('Machine Learning')\n",
    "    name = 'Chandra Prakash Bathula.'"
   ]
  },
  {
   "cell_type": "code",
   "execution_count": 24,
   "id": "f3c29f77-f977-4594-ae68-6ab233612dbc",
   "metadata": {},
   "outputs": [
    {
     "name": "stdout",
     "output_type": "stream",
     "text": [
      "Machine Learning\n"
     ]
    }
   ],
   "source": [
    "if True: print('Machine Learning'); name = 'Chandra Prakash Bathula'"
   ]
  },
  {
   "cell_type": "code",
   "execution_count": 39,
   "id": "46356275-3beb-4968-96ab-766bb7d46096",
   "metadata": {},
   "outputs": [
    {
     "name": "stdout",
     "output_type": "stream",
     "text": [
      "1 , This is a single line statement\n",
      "36  ,This is a line multi-line statement.\n",
      "36\n",
      "This is also possible. Multiple statements in single line. using ;\n"
     ]
    }
   ],
   "source": [
    "#Python Statements\n",
    "\n",
    "a = 1;\n",
    "print(a, ', This is a single line statement');\n",
    "b = 1 + 2 + 3 + \\\n",
    "    4 + 5 + 6 + \\\n",
    "    7 + 8\n",
    "print(b, ' ,This is a line multi-line statement.')\n",
    "c = ( 1 + 2 + 3 + \\\n",
    "    4 + 5 + 6 + \\\n",
    "    7 + 8)\n",
    "print(c)\n",
    "ab = 'This is also possible.'; bc='Multiple statements in single line.'; cd='using ;'\n",
    "print(ab,bc,cd)"
   ]
  },
  {
   "cell_type": "code",
   "execution_count": null,
   "id": "7e5d3afd-11f0-402a-b219-5641f7dadf6f",
   "metadata": {},
   "outputs": [],
   "source": []
  }
 ],
 "metadata": {
  "kernelspec": {
   "display_name": "Python 3 (ipykernel)",
   "language": "python",
   "name": "python3"
  },
  "language_info": {
   "codemirror_mode": {
    "name": "ipython",
    "version": 3
   },
   "file_extension": ".py",
   "mimetype": "text/x-python",
   "name": "python",
   "nbconvert_exporter": "python",
   "pygments_lexer": "ipython3",
   "version": "3.11.4"
  }
 },
 "nbformat": 4,
 "nbformat_minor": 5
}
