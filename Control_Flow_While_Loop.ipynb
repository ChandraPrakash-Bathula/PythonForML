{
 "cells": [
  {
   "cell_type": "markdown",
   "id": "19bb4735-927e-47cb-9f27-92cb51b14330",
   "metadata": {},
   "source": [
    "<h2>While Loops in Python : </h2>\n",
    "<p>While Loop excutes only when the statement is true and ends when it is false.</p>"
   ]
  },
  {
   "cell_type": "code",
   "execution_count": 7,
   "id": "36c52b5b-3c8a-496e-98fb-13c52f958c97",
   "metadata": {},
   "outputs": [
    {
     "name": "stdout",
     "output_type": "stream",
     "text": [
      "Hence the product of the numbers in list are : 270406080\n"
     ]
    }
   ],
   "source": [
    "lst = [1,2,34,56,789,90]\n",
    "product = 1\n",
    "index = 0\n",
    "while index < len(lst):\n",
    "    product *= lst[index]\n",
    "    index+=1\n",
    "print('Hence the product of the numbers in list are : {}'.format(product))"
   ]
  },
  {
   "cell_type": "code",
   "execution_count": 10,
   "id": "96bcf4f4-dd8a-4d6a-95b9-97920751012e",
   "metadata": {},
   "outputs": [
    {
     "name": "stdout",
     "output_type": "stream",
     "text": [
      "0\n",
      "1\n",
      "2\n",
      "3\n",
      "4\n",
      "5\n",
      "6\n",
      "7\n",
      "8\n",
      "9\n",
      "List completed earlier bro\n"
     ]
    }
   ],
   "source": [
    "numbers = [0,1,2,3,4,5,6,7,8,9]\n",
    "\n",
    "index = 0\n",
    "while index < len(numbers):\n",
    "    print(numbers[index])\n",
    "    index+=1;\n",
    "else:\n",
    "    print('List completed earlier bro')"
   ]
  },
  {
   "cell_type": "markdown",
   "id": "5ee77ca4-15c7-4f94-8812-6d7251a77662",
   "metadata": {},
   "source": [
    "<h3>Python Program to check if the given number is Prime Number are not.</h3>"
   ]
  },
  {
   "cell_type": "code",
   "execution_count": 21,
   "id": "fb0b4e99-4fe8-4fc2-898c-fdfe92bc51f3",
   "metadata": {},
   "outputs": [
    {
     "name": "stdin",
     "output_type": "stream",
     "text": [
      "Enter a Number to Check if it is Prime or Not :  1010\n"
     ]
    },
    {
     "name": "stdout",
     "output_type": "stream",
     "text": [
      "1010 is divisible by 2\n",
      "1010 is divisible by 5\n",
      "1010 is divisible by 10\n",
      "1010 is divisible by 101\n",
      "1010 is divisible by 202\n",
      "1010 is divisible by 505\n"
     ]
    },
    {
     "ename": "IndexError",
     "evalue": "Replacement index 1 out of range for positional args tuple",
     "output_type": "error",
     "traceback": [
      "\u001b[0;31m---------------------------------------------------------------------------\u001b[0m",
      "\u001b[0;31mIndexError\u001b[0m                                Traceback (most recent call last)",
      "Cell \u001b[0;32mIn[21], line 11\u001b[0m\n\u001b[1;32m      9\u001b[0m     i\u001b[38;5;241m+\u001b[39m\u001b[38;5;241m=\u001b[39m\u001b[38;5;241m1\u001b[39m;\n\u001b[1;32m     10\u001b[0m \u001b[38;5;28;01mif\u001b[39;00m isDivisible:\n\u001b[0;32m---> 11\u001b[0m     \u001b[38;5;28mprint\u001b[39m(\u001b[38;5;124;43m'\u001b[39;49m\u001b[38;5;132;43;01m{}\u001b[39;49;00m\u001b[38;5;124;43m is not a Prime Number\u001b[39;49m\u001b[38;5;132;43;01m{}\u001b[39;49;00m\u001b[38;5;124;43m'\u001b[39;49m\u001b[38;5;241;43m.\u001b[39;49m\u001b[43mformat\u001b[49m\u001b[43m(\u001b[49m\u001b[43mnum\u001b[49m\u001b[43m)\u001b[49m);\n\u001b[1;32m     12\u001b[0m \u001b[38;5;28;01melse\u001b[39;00m:\n\u001b[1;32m     13\u001b[0m     \u001b[38;5;28mprint\u001b[39m(\u001b[38;5;124m'\u001b[39m\u001b[38;5;132;01m{}\u001b[39;00m\u001b[38;5;124m is a Prime Number\u001b[39m\u001b[38;5;124m'\u001b[39m\u001b[38;5;241m.\u001b[39mformat(num))\n",
      "\u001b[0;31mIndexError\u001b[0m: Replacement index 1 out of range for positional args tuple"
     ]
    }
   ],
   "source": [
    "num = int(input('Enter a Number to Check if it is Prime or Not : '))\n",
    "isDivisible = False;\n",
    "i = 2;\n",
    "\n",
    "while i < num:\n",
    "    if num % i == 0:\n",
    "        isDivisible = True;\n",
    "        print('{} is divisible by {}'.format(num,i))\n",
    "    i += 1;\n",
    "if isDivisible:\n",
    "    print('{} is not a Prime Number{}'.format(num));\n",
    "else:\n",
    "    print('{} is a Prime Number'.format(num))"
   ]
  },
  {
   "cell_type": "code",
   "execution_count": null,
   "id": "38ebfa42-a9fc-49b6-a8de-9ce04994409c",
   "metadata": {},
   "outputs": [],
   "source": []
  }
 ],
 "metadata": {
  "kernelspec": {
   "display_name": "Python 3 (ipykernel)",
   "language": "python",
   "name": "python3"
  },
  "language_info": {
   "codemirror_mode": {
    "name": "ipython",
    "version": 3
   },
   "file_extension": ".py",
   "mimetype": "text/x-python",
   "name": "python",
   "nbconvert_exporter": "python",
   "pygments_lexer": "ipython3",
   "version": "3.11.4"
  }
 },
 "nbformat": 4,
 "nbformat_minor": 5
}
