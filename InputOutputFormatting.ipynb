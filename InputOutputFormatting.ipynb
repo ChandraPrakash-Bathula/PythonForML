{
 "cells": [
  {
   "cell_type": "code",
   "execution_count": 1,
   "id": "48de0d81-df99-420f-bca6-7adcbb181fd9",
   "metadata": {},
   "outputs": [
    {
     "name": "stdout",
     "output_type": "stream",
     "text": [
      "Python\n"
     ]
    }
   ],
   "source": [
    "print('Python')"
   ]
  },
  {
   "cell_type": "code",
   "execution_count": 2,
   "id": "29122d81-d540-498b-bcf9-4a3e59870ae1",
   "metadata": {},
   "outputs": [
    {
     "name": "stdout",
     "output_type": "stream",
     "text": [
      "The value of a is  10\n",
      "The value of a is 10\n"
     ]
    }
   ],
   "source": [
    "a = 10;\n",
    "print('The value of a is ',a)\n",
    "print('The value of a is ' + str(a))"
   ]
  },
  {
   "cell_type": "code",
   "execution_count": 3,
   "id": "98432046-f953-4e9f-8b9a-287df2f02e73",
   "metadata": {},
   "outputs": [
    {
     "name": "stdout",
     "output_type": "stream",
     "text": [
      "The value of a is 10 and b is 20\n"
     ]
    }
   ],
   "source": [
    "a = 10; b=20\n",
    "print('The value of a is {} and b is {}'.format(a,b))"
   ]
  },
  {
   "cell_type": "code",
   "execution_count": 5,
   "id": "c115df70-f330-4efc-aaaf-92bb15640a6d",
   "metadata": {},
   "outputs": [
    {
     "name": "stdout",
     "output_type": "stream",
     "text": [
      "The value of b is 20 and a is 10\n"
     ]
    }
   ],
   "source": [
    "a = 10; b=20\n",
    "print('The value of b is {1} and a is {0}'.format(a,b))"
   ]
  },
  {
   "cell_type": "code",
   "execution_count": 6,
   "id": "26c85789-cee9-4e3f-af0c-9f393399109d",
   "metadata": {},
   "outputs": [
    {
     "name": "stdout",
     "output_type": "stream",
     "text": [
      "Hello bro Good Morning. How are you Naidu ?\n"
     ]
    }
   ],
   "source": [
    "#we can use keywords in formatting too\n",
    "print('Hello bro {greeting}. How are you {name} ?'.format(greeting='Good Morning', name='Naidu'))"
   ]
  },
  {
   "cell_type": "code",
   "execution_count": 7,
   "id": "41a8c220-4116-487f-b083-03dc4d550296",
   "metadata": {},
   "outputs": [
    {
     "name": "stdout",
     "output_type": "stream",
     "text": [
      "The story of Bill, Manfred, and George\n"
     ]
    }
   ],
   "source": [
    "#combining various types of arguments with keyword arguments\n",
    "print('The story of {0}, {1}, and {other}'.format('Bill', 'Manfred', other='George'))"
   ]
  },
  {
   "cell_type": "code",
   "execution_count": 8,
   "id": "ca353562-c83f-4aac-80b0-226e6be88411",
   "metadata": {},
   "outputs": [
    {
     "name": "stdin",
     "output_type": "stream",
     "text": [
      "Enter a number:  4\n"
     ]
    },
    {
     "name": "stdout",
     "output_type": "stream",
     "text": [
      "4\n"
     ]
    }
   ],
   "source": [
    "#Python Input from built in functions.\n",
    "\n",
    "num = input('Enter a number: ')\n",
    "print(num)"
   ]
  },
  {
   "cell_type": "code",
   "execution_count": null,
   "id": "436ca4cd-1ac6-4d9f-8430-d95971cf3f5b",
   "metadata": {},
   "outputs": [],
   "source": []
  }
 ],
 "metadata": {
  "kernelspec": {
   "display_name": "Python 3 (ipykernel)",
   "language": "python",
   "name": "python3"
  },
  "language_info": {
   "codemirror_mode": {
    "name": "ipython",
    "version": 3
   },
   "file_extension": ".py",
   "mimetype": "text/x-python",
   "name": "python",
   "nbconvert_exporter": "python",
   "pygments_lexer": "ipython3",
   "version": "3.11.4"
  }
 },
 "nbformat": 4,
 "nbformat_minor": 5
}
