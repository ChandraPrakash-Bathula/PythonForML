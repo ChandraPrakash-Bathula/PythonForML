{
 "cells": [
  {
   "cell_type": "markdown",
   "id": "db72707e-2bee-47cc-baf1-9d22d155e722",
   "metadata": {},
   "source": [
    "<h2>Python Break and Continue Statements : </h2>"
   ]
  },
  {
   "cell_type": "code",
   "execution_count": 5,
   "id": "7f1afd4a-ad37-42d0-9af3-14a79d795cb1",
   "metadata": {},
   "outputs": [
    {
     "name": "stdout",
     "output_type": "stream",
     "text": [
      "1\n",
      "2\n",
      "3\n",
      "Outside the For Loop\n"
     ]
    }
   ],
   "source": [
    "numbers = [1,2,3,4]\n",
    "\n",
    "for num in numbers:\n",
    "    if num == 4:\n",
    "        break\n",
    "    print(num)\n",
    "else:\n",
    "    print('Print inside the for loop')\n",
    "print('Outside the For Loop')"
   ]
  },
  {
   "cell_type": "markdown",
   "id": "8319e8e1-fa9f-488e-8096-629d37226636",
   "metadata": {},
   "source": [
    "<h3>Python Program to check if the number is Prime or Not using break.</h3>"
   ]
  },
  {
   "cell_type": "code",
   "execution_count": 16,
   "id": "7d4a4b87-7976-479a-ba92-bb39af49a7fb",
   "metadata": {},
   "outputs": [
    {
     "name": "stdin",
     "output_type": "stream",
     "text": [
      "Enter a Number :  12\n"
     ]
    },
    {
     "name": "stdout",
     "output_type": "stream",
     "text": [
      "12 is divisible by 2\n",
      "12 is not a Prime Number.\n"
     ]
    }
   ],
   "source": [
    "number = int(input('Enter a Number : '))\n",
    "\n",
    "isDivisible = False\n",
    "\n",
    "i = 2;\n",
    "while i < number:\n",
    "    if number % i == 0:\n",
    "        isDivisible = True;\n",
    "        print('{} is divisible by {}'.format(number,i))\n",
    "        break;\n",
    "    i+=1;\n",
    "    \n",
    "if isDivisible:\n",
    "    print('{} is not a Prime Number.'.format(number))\n",
    "else:\n",
    "    print('{} is a Prime Number.'.format(number))\n",
    "    "
   ]
  },
  {
   "cell_type": "markdown",
   "id": "b3424231-0d9c-4220-928c-c55411795e4d",
   "metadata": {},
   "source": [
    "<h3>Finding the Odd Number in the List: </h3>"
   ]
  },
  {
   "cell_type": "code",
   "execution_count": 18,
   "id": "96808fb0-b5ae-47b4-8bee-39842c8ab061",
   "metadata": {},
   "outputs": [
    {
     "name": "stdout",
     "output_type": "stream",
     "text": [
      "1\n",
      "3\n",
      "5\n",
      "7\n",
      "9\n",
      "Not in the List.\n"
     ]
    }
   ],
   "source": [
    "#in a continue statement; if the condition in continue is set to true then t \n",
    "num_list = [1,2,3,4,5,6,7,8,9]\n",
    "\n",
    "for item in num_list:\n",
    "    if item % 2 == 0:\n",
    "        continue\n",
    "    print(item)\n",
    "else:\n",
    "    print('Not in the List.')"
   ]
  },
  {
   "cell_type": "code",
   "execution_count": null,
   "id": "e85679f3-cff6-4892-afea-3f6a8c95bca6",
   "metadata": {},
   "outputs": [],
   "source": []
  }
 ],
 "metadata": {
  "kernelspec": {
   "display_name": "Python 3 (ipykernel)",
   "language": "python",
   "name": "python3"
  },
  "language_info": {
   "codemirror_mode": {
    "name": "ipython",
    "version": 3
   },
   "file_extension": ".py",
   "mimetype": "text/x-python",
   "name": "python",
   "nbconvert_exporter": "python",
   "pygments_lexer": "ipython3",
   "version": "3.11.4"
  }
 },
 "nbformat": 4,
 "nbformat_minor": 5
}
