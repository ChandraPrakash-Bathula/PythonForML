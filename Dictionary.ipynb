{
 "cells": [
  {
   "cell_type": "code",
   "execution_count": 91,
   "id": "9f19b4b7-4e73-46ef-a9df-e9dc8671470b",
   "metadata": {},
   "outputs": [
    {
     "name": "stdout",
     "output_type": "stream",
     "text": [
      "{}\n",
      "{}\n"
     ]
    },
    {
     "ename": "TypeError",
     "evalue": "'dict' object is not callable",
     "output_type": "error",
     "traceback": [
      "\u001b[0;31m---------------------------------------------------------------------------\u001b[0m",
      "\u001b[0;31mTypeError\u001b[0m                                 Traceback (most recent call last)",
      "Cell \u001b[0;32mIn[91], line 12\u001b[0m\n\u001b[1;32m      9\u001b[0m builtins\u001b[38;5;241m.\u001b[39mdict \u001b[38;5;241m=\u001b[39m builtins\u001b[38;5;241m.\u001b[39m\u001b[38;5;18m__dict__\u001b[39m[\u001b[38;5;124m'\u001b[39m\u001b[38;5;124mdict\u001b[39m\u001b[38;5;124m'\u001b[39m]\n\u001b[1;32m     11\u001b[0m \u001b[38;5;66;03m# Now you can create a dictionary using the dict() function\u001b[39;00m\n\u001b[0;32m---> 12\u001b[0m another_empty_dict_builtin \u001b[38;5;241m=\u001b[39m \u001b[38;5;28;43mdict\u001b[39;49m\u001b[43m(\u001b[49m\u001b[43m)\u001b[49m  \u001b[38;5;66;03m# using the built-in dict() function\u001b[39;00m\n\u001b[1;32m     13\u001b[0m \u001b[38;5;28mprint\u001b[39m(another_empty_dict_builtin)\n",
      "\u001b[0;31mTypeError\u001b[0m: 'dict' object is not callable"
     ]
    }
   ],
   "source": [
    "\n",
    "empty_dict = {}  # empty dictionary\n",
    "print(empty_dict)\n",
    "\n",
    "another_empty_dict = {}  # using literal notation\n",
    "print(another_empty_dict)"
   ]
  },
  {
   "cell_type": "code",
   "execution_count": null,
   "id": "a20aa51f-a354-48c7-8738-1086eb061d51",
   "metadata": {},
   "outputs": [],
   "source": []
  },
  {
   "cell_type": "code",
   "execution_count": 87,
   "id": "2927b217-420a-4130-8bcf-9b639300ef04",
   "metadata": {},
   "outputs": [
    {
     "name": "stdout",
     "output_type": "stream",
     "text": [
      "betrayal\n"
     ]
    }
   ],
   "source": [
    "dicti = {'k':'kohli','b':'betrayal','c':'cigar','d':'dream'}\n",
    "print(dicti['b'])"
   ]
  },
  {
   "cell_type": "code",
   "execution_count": 71,
   "id": "051d7de4-0abe-4533-8bf7-1c8475e037e7",
   "metadata": {},
   "outputs": [
    {
     "data": {
      "text/plain": [
       "'cigar'"
      ]
     },
     "execution_count": 71,
     "metadata": {},
     "output_type": "execute_result"
    }
   ],
   "source": [
    "dicti = {'k':'kohli','b':'betrayal','c':'cigar','d':'dream'}\n",
    "dicti.get('c')"
   ]
  },
  {
   "cell_type": "code",
   "execution_count": 72,
   "id": "90764de2-c90b-4213-874b-e8a4455cbc13",
   "metadata": {},
   "outputs": [
    {
     "data": {
      "text/plain": [
       "{'k': 'kohli', 'b': 'betrayal', 'c': 'chandu', 'd': 'dream'}"
      ]
     },
     "execution_count": 72,
     "metadata": {},
     "output_type": "execute_result"
    }
   ],
   "source": [
    "dicti = {'k':'kohli','b':'betrayal','c':'cigar','d':'dream'}\n",
    "dicti['c'] = 'chandu'\n",
    "dicti"
   ]
  },
  {
   "cell_type": "code",
   "execution_count": 73,
   "id": "1a7d667b-6a1b-40d9-9aaf-5f68787c849c",
   "metadata": {},
   "outputs": [
    {
     "data": {
      "text/plain": [
       "{'k': 'kohli', 'b': 'betrayal', 'c': 'cigar', 'd': 'dream', 'B': 'Bro'}"
      ]
     },
     "execution_count": 73,
     "metadata": {},
     "output_type": "execute_result"
    }
   ],
   "source": [
    "dicti = {'k':'kohli','b':'betrayal','c':'cigar','d':'dream'}\n",
    "dicti['B']='Bro'\n",
    "dicti"
   ]
  },
  {
   "cell_type": "code",
   "execution_count": 74,
   "id": "38108c31-f647-4d53-84f1-7e42c9a7327e",
   "metadata": {},
   "outputs": [
    {
     "name": "stdout",
     "output_type": "stream",
     "text": [
      "betrayal\n"
     ]
    },
    {
     "data": {
      "text/plain": [
       "{'k': 'kohli', 'c': 'cigar', 'd': 'dream'}"
      ]
     },
     "execution_count": 74,
     "metadata": {},
     "output_type": "execute_result"
    }
   ],
   "source": [
    "#pop here removes an element\n",
    "dicti = {'k':'kohli','b':'betrayal','c':'cigar','d':'dream'}\n",
    "print(dicti.pop('b')) \n",
    "dicti"
   ]
  },
  {
   "cell_type": "code",
   "execution_count": 75,
   "id": "62f391dd-a23d-4e6f-893b-4190783802f6",
   "metadata": {},
   "outputs": [
    {
     "name": "stdout",
     "output_type": "stream",
     "text": [
      "('d', 'dream')\n"
     ]
    },
    {
     "data": {
      "text/plain": [
       "{1: 1, 2: 2, 3: 3, 4: 4, 5: 5, 6: 6, 7: 7}"
      ]
     },
     "execution_count": 75,
     "metadata": {},
     "output_type": "execute_result"
    }
   ],
   "source": [
    "#popitem also removes an arbitrary key\n",
    "dicti = {'k':'kohli','b':'betrayal','c':'cigar','d':'dream'}\n",
    "print(dicti.popitem()) \n",
    "dict"
   ]
  },
  {
   "cell_type": "code",
   "execution_count": 76,
   "id": "557fa920-57f1-48e4-856b-6264c44a5f16",
   "metadata": {},
   "outputs": [
    {
     "data": {
      "text/plain": [
       "{'k': 'kohli', 'c': 'cigar', 'd': 'dream'}"
      ]
     },
     "execution_count": 76,
     "metadata": {},
     "output_type": "execute_result"
    }
   ],
   "source": [
    "#del uses to delete an item\n",
    "dicti = {'k':'kohli','b':'betrayal','c':'cigar','d':'dream'}\n",
    "del dicti['b']\n",
    "dicti"
   ]
  },
  {
   "cell_type": "code",
   "execution_count": 77,
   "id": "443eaf13-2783-406a-ae01-7880094ac19e",
   "metadata": {},
   "outputs": [
    {
     "data": {
      "text/plain": [
       "{1: 1, 2: 2, 3: 3, 4: 4, 5: 5, 6: 6, 7: 7}"
      ]
     },
     "execution_count": 77,
     "metadata": {},
     "output_type": "execute_result"
    }
   ],
   "source": [
    "dicti = {'k':'kohli','b':'betrayal','c':'cigar','d':'dream'}\n",
    "dicti.clear()\n",
    "dict"
   ]
  },
  {
   "cell_type": "code",
   "execution_count": 78,
   "id": "ede4757e-8c4f-4a3e-9dc4-cbf44772f97d",
   "metadata": {},
   "outputs": [
    {
     "ename": "NameError",
     "evalue": "name 'dicti' is not defined",
     "output_type": "error",
     "traceback": [
      "\u001b[0;31m---------------------------------------------------------------------------\u001b[0m",
      "\u001b[0;31mNameError\u001b[0m                                 Traceback (most recent call last)",
      "Cell \u001b[0;32mIn[78], line 4\u001b[0m\n\u001b[1;32m      2\u001b[0m dicti \u001b[38;5;241m=\u001b[39m {\u001b[38;5;241m1\u001b[39m:\u001b[38;5;124m'\u001b[39m\u001b[38;5;124mone\u001b[39m\u001b[38;5;124m'\u001b[39m,\u001b[38;5;241m2\u001b[39m:\u001b[38;5;124m'\u001b[39m\u001b[38;5;124m2\u001b[39m\u001b[38;5;124m'\u001b[39m,\u001b[38;5;241m3\u001b[39m:\u001b[38;5;124m'\u001b[39m\u001b[38;5;124mthree\u001b[39m\u001b[38;5;124m'\u001b[39m,\u001b[38;5;241m4\u001b[39m:\u001b[38;5;124m'\u001b[39m\u001b[38;5;124mfour\u001b[39m\u001b[38;5;124m'\u001b[39m,\u001b[38;5;241m5\u001b[39m:\u001b[38;5;124m'\u001b[39m\u001b[38;5;124mfive\u001b[39m\u001b[38;5;124m'\u001b[39m,\u001b[38;5;241m6\u001b[39m:\u001b[38;5;124m'\u001b[39m\u001b[38;5;124msix\u001b[39m\u001b[38;5;124m'\u001b[39m,\u001b[38;5;241m7\u001b[39m:\u001b[38;5;124m'\u001b[39m\u001b[38;5;124mseven\u001b[39m\u001b[38;5;124m'\u001b[39m}\n\u001b[1;32m      3\u001b[0m \u001b[38;5;28;01mdel\u001b[39;00m dicti\n\u001b[0;32m----> 4\u001b[0m \u001b[38;5;28mprint\u001b[39m(\u001b[43mdicti\u001b[49m)\n",
      "\u001b[0;31mNameError\u001b[0m: name 'dicti' is not defined"
     ]
    }
   ],
   "source": [
    "#and del can delete a dictionary completely\n",
    "dicti = {1:'one',2:'2',3:'three',4:'four',5:'five',6:'six',7:'seven'}\n",
    "del dicti\n",
    "print(dicti)"
   ]
  },
  {
   "cell_type": "code",
   "execution_count": 79,
   "id": "b8c55ffc-c2b4-422e-aac2-565c15c5624c",
   "metadata": {},
   "outputs": [
    {
     "data": {
      "text/plain": [
       "{1: 'one', 2: '2', 3: 'three', 4: 'four', 5: 'five', 6: 'six', 7: 'seven'}"
      ]
     },
     "execution_count": 79,
     "metadata": {},
     "output_type": "execute_result"
    }
   ],
   "source": [
    "#copy\n",
    "dicti = {1:'one',2:'2',3:'three',4:'four',5:'five',6:'six',7:'seven'}\n",
    "my_dict = dicti.copy()\n",
    "my_dict"
   ]
  },
  {
   "cell_type": "code",
   "execution_count": 80,
   "id": "6a012563-49d4-4c10-8f86-baced395db06",
   "metadata": {},
   "outputs": [
    {
     "data": {
      "text/plain": [
       "{'Math': 910, 'Hindi': 910, 'Science': 910}"
      ]
     },
     "execution_count": 80,
     "metadata": {},
     "output_type": "execute_result"
    }
   ],
   "source": [
    "#fromkeys[seq[,v]] -> Return a new dictionary with keys from sequence and values from list.\n",
    "subjects = {}.fromkeys(['Math','Hindi','Science'],910)\n",
    "subjects"
   ]
  },
  {
   "cell_type": "code",
   "execution_count": 81,
   "id": "4a6a8a37-a8eb-4596-970f-be9031072019",
   "metadata": {},
   "outputs": [
    {
     "name": "stdout",
     "output_type": "stream",
     "text": [
      "dict_items([(1, 'one'), (2, '2'), (3, 'three'), (4, 'four'), (5, 'five'), (6, 'six'), (7, 'seven')])\n"
     ]
    }
   ],
   "source": [
    "dict = {1:'one',2:'2',3:'three',4:'four',5:'five',6:'six',7:'seven'}\n",
    "print(dict.items()) #this brings list of tuples"
   ]
  },
  {
   "cell_type": "code",
   "execution_count": 82,
   "id": "ad09f620-2b6d-41e8-8bda-7908e09f08ae",
   "metadata": {},
   "outputs": [
    {
     "name": "stdout",
     "output_type": "stream",
     "text": [
      "dict_keys([1, 2, 3, 4, 5, 6, 7])\n",
      "dict_values(['one', '2', 'three', 'four', 'five', 'six', 'seven'])\n"
     ]
    }
   ],
   "source": [
    "#keys and values\n",
    "dict = {1:'one',2:'2',3:'three',4:'four',5:'five',6:'six',7:'seven'}\n",
    "print(dict.keys())\n",
    "print(dict.values())"
   ]
  },
  {
   "cell_type": "code",
   "execution_count": 83,
   "id": "b5ac0001-c310-4966-8751-86aee45517df",
   "metadata": {},
   "outputs": [
    {
     "name": "stdout",
     "output_type": "stream",
     "text": [
      "['__class__', '__class_getitem__', '__contains__', '__delattr__', '__delitem__', '__dir__', '__doc__', '__eq__', '__format__', '__ge__', '__getattribute__', '__getitem__', '__getstate__', '__gt__', '__hash__', '__init__', '__init_subclass__', '__ior__', '__iter__', '__le__', '__len__', '__lt__', '__ne__', '__new__', '__or__', '__reduce__', '__reduce_ex__', '__repr__', '__reversed__', '__ror__', '__setattr__', '__setitem__', '__sizeof__', '__str__', '__subclasshook__', 'clear', 'copy', 'fromkeys', 'get', 'items', 'keys', 'pop', 'popitem', 'setdefault', 'update', 'values']\n"
     ]
    }
   ],
   "source": [
    "#list of all methods and attributes in dictionary\n",
    "d = {}\n",
    "print(dir(d))"
   ]
  },
  {
   "cell_type": "code",
   "execution_count": 84,
   "id": "c86e41d8-346b-4acf-bec9-b587ef255fe1",
   "metadata": {},
   "outputs": [
    {
     "name": "stdout",
     "output_type": "stream",
     "text": [
      "(1, 'one')\n",
      "(2, '2')\n",
      "(3, 'three')\n",
      "(4, 'four')\n",
      "(5, 'five')\n",
      "(6, 'six')\n",
      "(7, 'seven')\n"
     ]
    }
   ],
   "source": [
    "#Dict comprehension\n",
    "dict = {1:'one',2:'2',3:'three',4:'four',5:'five',6:'six',7:'seven'}\n",
    "for pairs in dict.items():\n",
    "    print(pairs)"
   ]
  },
  {
   "cell_type": "code",
   "execution_count": 85,
   "id": "5609763e-bfbc-4b9b-81e8-dd83635e5850",
   "metadata": {},
   "outputs": [
    {
     "data": {
      "text/plain": [
       "{3: 3, 4: 4, 5: 5, 6: 6, 7: 7}"
      ]
     },
     "execution_count": 85,
     "metadata": {},
     "output_type": "execute_result"
    }
   ],
   "source": [
    "dict = {1:1,2:2,3:3,4:4,5:5,6:6,7:7}\n",
    "new_dict = {k:v for k,v in dict.items() if v>2}\n",
    "new_dict "
   ]
  },
  {
   "cell_type": "code",
   "execution_count": 86,
   "id": "f1e94a5f-55b8-4e40-88ec-93640ae45b58",
   "metadata": {},
   "outputs": [
    {
     "data": {
      "text/plain": [
       "{'4c': 8, '5c': 10, '6c': 12, '7c': 14}"
      ]
     },
     "execution_count": 86,
     "metadata": {},
     "output_type": "execute_result"
    }
   ],
   "source": [
    "dict = {1:1,2:2,3:3,4:4,5:5,6:6,7:7}\n",
    "new_dict ={  str(k) + 'c': v * 2 for k,v in dict.items() if v > 3}\n",
    "new_dict"
   ]
  }
 ],
 "metadata": {
  "kernelspec": {
   "display_name": "Python 3 (ipykernel)",
   "language": "python",
   "name": "python3"
  },
  "language_info": {
   "codemirror_mode": {
    "name": "ipython",
    "version": 3
   },
   "file_extension": ".py",
   "mimetype": "text/x-python",
   "name": "python",
   "nbconvert_exporter": "python",
   "pygments_lexer": "ipython3",
   "version": "3.11.4"
  }
 },
 "nbformat": 4,
 "nbformat_minor": 5
}
