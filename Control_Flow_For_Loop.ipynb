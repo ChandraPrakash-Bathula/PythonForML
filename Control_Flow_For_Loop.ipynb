{
 "cells": [
  {
   "cell_type": "markdown",
   "id": "923b1d65-d36c-44f1-af3f-802dc09479b4",
   "metadata": {},
   "source": [
    "<h2>Python For Loops: </h2>\n",
    "<p>The for loop in Python is used to iterate over a list or tuples or string over a sequence.</p>\n",
    "<p>Iterating over a Sequence is called Traversal.</p>"
   ]
  },
  {
   "cell_type": "code",
   "execution_count": 3,
   "id": "09d6788a-f612-4477-9ab3-e793b9b64f2a",
   "metadata": {},
   "outputs": [
    {
     "name": "stdout",
     "output_type": "stream",
     "text": [
      "2\n",
      "4\n",
      "6\n",
      "8\n",
      "112\n",
      "156\n",
      "1798\n",
      "18\n",
      "180\n",
      "1982\n",
      "198\n",
      "19742\n",
      "380\n",
      "22\n",
      "246\n",
      "24\n"
     ]
    }
   ],
   "source": [
    "#multiple every integer with 2\n",
    "list = [1,2,3,4,56,78,899,9,90,991,99,9871,190,11,123,12]\n",
    "for i in list:\n",
    "    a = i*2\n",
    "    print(a)\n"
   ]
  },
  {
   "cell_type": "code",
   "execution_count": 10,
   "id": "6bb1e441-a86f-4e96-8e7f-36a3895e09a2",
   "metadata": {},
   "outputs": [
    {
     "name": "stdout",
     "output_type": "stream",
     "text": [
      "This is the product of the integers in the list 1 at the index 1\n",
      "This is the product of the integers in the list 2 at the index 2\n",
      "This is the product of the integers in the list 6 at the index 3\n",
      "This is the product of the integers in the list 24 at the index 4\n",
      "This is the product of the integers in the list 120 at the index 5\n",
      "This is the product of the integers in the list 720 at the index 6\n",
      "This is the product of the integers in the list 56160 at the index 7\n",
      "This is the product of all the integers in the list 56160\n"
     ]
    }
   ],
   "source": [
    "#Finding the product of a list.\n",
    "\n",
    "lst = [1,2,3,4,5,6,78]\n",
    "product = 1\n",
    "index = 0\n",
    "for element in lst:\n",
    "    product *= element\n",
    "    index+=1\n",
    "    print('This is the product of the integers in the list {}'.format(product) + ' at the index ' + str(index))\n",
    "print('This is the product of all the integers in the list {}'.format(product))"
   ]
  },
  {
   "cell_type": "code",
   "execution_count": 12,
   "id": "3a7ea842-1ed2-4e8b-908d-b61c89a9ea80",
   "metadata": {},
   "outputs": [
    {
     "name": "stdout",
     "output_type": "stream",
     "text": [
      "0\n",
      "1\n",
      "2\n",
      "3\n",
      "4\n",
      "5\n",
      "6\n",
      "7\n",
      "8\n",
      "9\n"
     ]
    }
   ],
   "source": [
    "#range() function gives all the integers till that number\n",
    "\n",
    "for i in range(10):\n",
    "    print(i)"
   ]
  },
  {
   "cell_type": "code",
   "execution_count": 15,
   "id": "760b1ece-16ce-4ed3-910c-2652f01c89bf",
   "metadata": {},
   "outputs": [
    {
     "name": "stdout",
     "output_type": "stream",
     "text": [
      "112\n",
      "133\n",
      "154\n",
      "175\n",
      "196\n",
      "217\n",
      "238\n"
     ]
    }
   ],
   "source": [
    "#range(starts, end, stepsize)\n",
    "\n",
    "for i in range(112,243,21):\n",
    "    print(i)"
   ]
  },
  {
   "cell_type": "code",
   "execution_count": 19,
   "id": "52ac2b40-f746-43eb-9b0a-756594bcafaf",
   "metadata": {},
   "outputs": [
    {
     "name": "stdout",
     "output_type": "stream",
     "text": [
      "Chiru\n",
      "PK\n",
      "Mohanlal\n",
      "Shivanna\n",
      "Kamal\n",
      "Rajinikanth\n",
      "\n",
      "Chiru\n",
      "PK\n",
      "Mohanlal\n",
      "Shivanna\n",
      "Kamal\n",
      "Rajinikanth\n"
     ]
    }
   ],
   "source": [
    "lst = ['Chiru', 'PK', 'Mohanlal', 'Shivanna', 'Kamal', 'Rajinikanth']\n",
    "for i in lst:\n",
    "    print(i)\n",
    "print('')\n",
    "for index in range(len(lst)):\n",
    "    print(lst[index])"
   ]
  },
  {
   "cell_type": "code",
   "execution_count": 20,
   "id": "84e5578e-0082-4e3c-8ca2-702f761e3c5b",
   "metadata": {},
   "outputs": [
    {
     "name": "stdout",
     "output_type": "stream",
     "text": [
      "1\n",
      "3\n",
      "2\n",
      "4\n",
      "6\n",
      "5\n",
      "7\n",
      "9\n",
      "8\n",
      "0\n",
      "loop has ended.\n"
     ]
    }
   ],
   "source": [
    "num = [1,3,2,4,6,5,7,9,8,0]\n",
    "\n",
    "for i in num:\n",
    "    print(i)\n",
    "else:\n",
    "    print('loop has ended.')"
   ]
  },
  {
   "cell_type": "code",
   "execution_count": 28,
   "id": "efa7fb22-ef88-4800-8115-9906b29babd7",
   "metadata": {},
   "outputs": [
    {
     "name": "stdin",
     "output_type": "stream",
     "text": [
      "Enter a Number:  11\n",
      "Enter another Number:  21\n"
     ]
    },
    {
     "name": "stdout",
     "output_type": "stream",
     "text": [
      "Prime Numbers between 11 and 21 are : \n",
      "11\n",
      "13\n",
      "17\n",
      "19\n"
     ]
    }
   ],
   "source": [
    "num1 = int(input('Enter a Number: '))\n",
    "num2 = int(input('Enter another Number: '))\n",
    "\n",
    "print('Prime Numbers between {0} and {1} are : '.format(num1,num2))\n",
    "\n",
    "for num in range(num1, num2+1):\n",
    "    if num > 1:\n",
    "        isDivisible = False;\n",
    "        for index in range(2, num):\n",
    "            if num % index == 0:\n",
    "                isDivisible = True;\n",
    "        if not isDivisible:\n",
    "            print(num);        "
   ]
  },
  {
   "cell_type": "code",
   "execution_count": 30,
   "id": "95dccb03-f937-47b8-85ce-15b8d2399bab",
   "metadata": {},
   "outputs": [
    {
     "name": "stdout",
     "output_type": "stream",
     "text": [
      "Prime Numbers between 132 and 154\n"
     ]
    },
    {
     "ename": "NameError",
     "evalue": "name 'isDivisble' is not defined",
     "output_type": "error",
     "traceback": [
      "\u001b[0;31m---------------------------------------------------------------------------\u001b[0m",
      "\u001b[0;31mNameError\u001b[0m                                 Traceback (most recent call last)",
      "Cell \u001b[0;32mIn[30], line 10\u001b[0m\n\u001b[1;32m      8\u001b[0m     \u001b[38;5;28;01mif\u001b[39;00m num \u001b[38;5;241m%\u001b[39m index \u001b[38;5;241m==\u001b[39m \u001b[38;5;241m0\u001b[39m:\n\u001b[1;32m      9\u001b[0m         isDivisible \u001b[38;5;241m=\u001b[39m \u001b[38;5;28;01mTrue\u001b[39;00m;\n\u001b[0;32m---> 10\u001b[0m \u001b[38;5;28;01mif\u001b[39;00m \u001b[43misDivisble\u001b[49m \u001b[38;5;241m==\u001b[39m \u001b[38;5;28;01mFalse\u001b[39;00m:\n\u001b[1;32m     11\u001b[0m     \u001b[38;5;28mprint\u001b[39m(num)\n",
      "\u001b[0;31mNameError\u001b[0m: name 'isDivisble' is not defined"
     ]
    }
   ],
   "source": [
    "num11 = 132\n",
    "num12 = 154\n",
    "print('Prime Numbers between {} and {}'.format(num11,num12))\n",
    "for num in range(num11, num12):\n",
    "    if num > 1:\n",
    "        isDivisible = False;\n",
    "        for index in range(2, num):\n",
    "            if num % index == 0:\n",
    "                isDivisible = True;\n",
    "        if isDivisble:\n",
    "            print(num)"
   ]
  },
  {
   "cell_type": "code",
   "execution_count": null,
   "id": "d0404b0e-a07d-4ea5-a80a-8626398d54a7",
   "metadata": {},
   "outputs": [],
   "source": []
  }
 ],
 "metadata": {
  "kernelspec": {
   "display_name": "Python 3 (ipykernel)",
   "language": "python",
   "name": "python3"
  },
  "language_info": {
   "codemirror_mode": {
    "name": "ipython",
    "version": 3
   },
   "file_extension": ".py",
   "mimetype": "text/x-python",
   "name": "python",
   "nbconvert_exporter": "python",
   "pygments_lexer": "ipython3",
   "version": "3.11.4"
  }
 },
 "nbformat": 4,
 "nbformat_minor": 5
}
